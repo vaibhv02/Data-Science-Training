{
  "metadata": {
    "kernelspec": {
      "name": "python",
      "display_name": "Python (Pyodide)",
      "language": "python"
    },
    "language_info": {
      "codemirror_mode": {
        "name": "python",
        "version": 3
      },
      "file_extension": ".py",
      "mimetype": "text/x-python",
      "name": "python",
      "nbconvert_exporter": "python",
      "pygments_lexer": "ipython3",
      "version": "3.8"
    }
  },
  "nbformat_minor": 4,
  "nbformat": 4,
  "cells": [
    {
      "cell_type": "markdown",
      "source": "<p style=\"text-align:center\">\n    <a href=\"https://skills.network/?utm_medium=Exinfluencer&utm_source=Exinfluencer&utm_content=000026UJ&utm_term=10006555&utm_id=NA-SkillsNetwork-Channel-SkillsNetworkCoursesIBMDeveloperSkillsNetworkML0101ENSkillsNetwork20718538-2022-01-01\" target=\"_blank\">\n    <img src=\"https://cf-courses-data.s3.us.cloud-object-storage.appdomain.cloud/assets/logos/SN_web_lightmode.png\" width=\"200\" alt=\"Skills Network Logo\">\n    </a>\n</p>\n\n<h1 align=\"center\"><font size=\"5\">Final Project: Classification with Python</font></h1>\n",
      "metadata": {}
    },
    {
      "cell_type": "markdown",
      "source": "<h2>Table of Contents</h2>\n<div class=\"alert alert-block alert-info\" style=\"margin-top: 20px\">\n    <ul>\n    <li><a href=\"https://#Section_1\">Instructions</a></li>\n    <li><a href=\"https://#Section_2\">About the Data</a></li>\n    <li><a href=\"https://#Section_3\">Importing Data </a></li>\n    <li><a href=\"https://#Section_4\">Data Preprocessing</a> </li>\n    <li><a href=\"https://#Section_5\">One Hot Encoding </a></li>\n    <li><a href=\"https://#Section_6\">Train and Test Data Split </a></li>\n    <li><a href=\"https://#Section_7\">Train Logistic Regression, KNN, Decision Tree, SVM, and Linear Regression models and return their appropriate accuracy scores</a></li>\n</a></li>\n</div>\n<p>Estimated Time Needed: <strong>180 min</strong></p>\n</div>\n\n<hr>\n",
      "metadata": {}
    },
    {
      "cell_type": "markdown",
      "source": "# Instructions\n",
      "metadata": {}
    },
    {
      "cell_type": "markdown",
      "source": "In this notebook, you will  practice all the classification algorithms that we have learned in this course.\n\n\nBelow, is where we are going to use the classification algorithms to create a model based on our training data and evaluate our testing data using evaluation metrics learned in the course.\n\nWe will use some of the algorithms taught in the course, specifically:\n\n1. Linear Regression\n2. KNN\n3. Decision Trees\n4. Logistic Regression\n5. SVM\n\nWe will evaluate our models using:\n\n1.  Accuracy Score\n2.  Jaccard Index\n3.  F1-Score\n4.  LogLoss\n5.  Mean Absolute Error\n6.  Mean Squared Error\n7.  R2-Score\n\nFinally, you will use your models to generate the report at the end. \n",
      "metadata": {}
    },
    {
      "cell_type": "markdown",
      "source": "# About The Dataset\n",
      "metadata": {}
    },
    {
      "cell_type": "markdown",
      "source": "The original source of the data is Australian Government's Bureau of Meteorology and the latest data can be gathered from [http://www.bom.gov.au/climate/dwo/](http://www.bom.gov.au/climate/dwo/?utm_medium=Exinfluencer&utm_source=Exinfluencer&utm_content=000026UJ&utm_term=10006555&utm_id=NA-SkillsNetwork-Channel-SkillsNetworkCoursesIBMDeveloperSkillsNetworkML0101ENSkillsNetwork20718538-2022-01-01).\n\nThe dataset to be used has extra columns like 'RainToday' and our target is 'RainTomorrow', which was gathered from the Rattle at [https://bitbucket.org/kayontoga/rattle/src/master/data/weatherAUS.RData](https://bitbucket.org/kayontoga/rattle/src/master/data/weatherAUS.RData?utm_medium=Exinfluencer&utm_source=Exinfluencer&utm_content=000026UJ&utm_term=10006555&utm_id=NA-SkillsNetwork-Channel-SkillsNetworkCoursesIBMDeveloperSkillsNetworkML0101ENSkillsNetwork20718538-2022-01-01)\n\n\n",
      "metadata": {}
    },
    {
      "cell_type": "markdown",
      "source": "This dataset contains observations of weather metrics for each day from 2008 to 2017. The **weatherAUS.csv** dataset includes the following fields:\n\n| Field         | Description                                           | Unit            | Type   |\n| ------------- | ----------------------------------------------------- | --------------- | ------ |\n| Date          | Date of the Observation in YYYY-MM-DD                 | Date            | object |\n| Location      | Location of the Observation                           | Location        | object |\n| MinTemp       | Minimum temperature                                   | Celsius         | float  |\n| MaxTemp       | Maximum temperature                                   | Celsius         | float  |\n| Rainfall      | Amount of rainfall                                    | Millimeters     | float  |\n| Evaporation   | Amount of evaporation                                 | Millimeters     | float  |\n| Sunshine      | Amount of bright sunshine                             | hours           | float  |\n| WindGustDir   | Direction of the strongest gust                       | Compass Points  | object |\n| WindGustSpeed | Speed of the strongest gust                           | Kilometers/Hour | object |\n| WindDir9am    | Wind direction averaged of 10 minutes prior to 9am    | Compass Points  | object |\n| WindDir3pm    | Wind direction averaged of 10 minutes prior to 3pm    | Compass Points  | object |\n| WindSpeed9am  | Wind speed averaged of 10 minutes prior to 9am        | Kilometers/Hour | float  |\n| WindSpeed3pm  | Wind speed averaged of 10 minutes prior to 3pm        | Kilometers/Hour | float  |\n| Humidity9am   | Humidity at 9am                                       | Percent         | float  |\n| Humidity3pm   | Humidity at 3pm                                       | Percent         | float  |\n| Pressure9am   | Atmospheric pressure reduced to mean sea level at 9am | Hectopascal     | float  |\n| Pressure3pm   | Atmospheric pressure reduced to mean sea level at 3pm | Hectopascal     | float  |\n| Cloud9am      | Fraction of the sky obscured by cloud at 9am          | Eights          | float  |\n| Cloud3pm      | Fraction of the sky obscured by cloud at 3pm          | Eights          | float  |\n| Temp9am       | Temperature at 9am                                    | Celsius         | float  |\n| Temp3pm       | Temperature at 3pm                                    | Celsius         | float  |\n| RainToday     | If there was rain today                               | Yes/No          | object |\n| RainTomorrow  | If there is rain tomorrow                             | Yes/No          | float  |\n\nColumn definitions were gathered from [http://www.bom.gov.au/climate/dwo/IDCJDW0000.shtml](http://www.bom.gov.au/climate/dwo/IDCJDW0000.shtml?utm_medium=Exinfluencer&utm_source=Exinfluencer&utm_content=000026UJ&utm_term=10006555&utm_id=NA-SkillsNetwork-Channel-SkillsNetworkCoursesIBMDeveloperSkillsNetworkML0101ENSkillsNetwork20718538-2022-01-01)\n\n",
      "metadata": {}
    },
    {
      "cell_type": "markdown",
      "source": "## **Import the required libraries**\n",
      "metadata": {}
    },
    {
      "cell_type": "code",
      "source": "# All Libraries required for this lab are listed below. The libraries pre-installed on Skills Network Labs are commented.\n# !mamba install -qy pandas==1.3.4 numpy==1.21.4 seaborn==0.9.0 matplotlib==3.5.0 scikit-learn==0.20.1\n# Note: If your environment doesn't support \"!mamba install\", use \"!pip install\"",
      "metadata": {
        "trusted": true
      },
      "outputs": [],
      "execution_count": 1
    },
    {
      "cell_type": "code",
      "source": "# Surpress warnings:\ndef warn(*args, **kwargs):\n    pass\nimport warnings\nwarnings.warn = warn",
      "metadata": {
        "trusted": true
      },
      "outputs": [],
      "execution_count": 2
    },
    {
      "cell_type": "code",
      "source": "#you are running the lab in your  browser, so we will install the libraries using ``piplite``\nimport piplite\nawait piplite.install(['pandas'])\nawait piplite.install(['numpy'])\n",
      "metadata": {
        "trusted": true
      },
      "outputs": [],
      "execution_count": 3
    },
    {
      "cell_type": "code",
      "source": "import pandas as pd\nfrom sklearn.linear_model import LogisticRegression\nfrom sklearn.linear_model import LinearRegression\nfrom sklearn import preprocessing\nimport numpy as np\nfrom sklearn.neighbors import KNeighborsClassifier\nfrom sklearn.model_selection import train_test_split\nfrom sklearn.neighbors import KNeighborsClassifier\nfrom sklearn.tree import DecisionTreeClassifier\nfrom sklearn import svm\nfrom sklearn.metrics import jaccard_score\nfrom sklearn.metrics import f1_score\nfrom sklearn.metrics import log_loss\nfrom sklearn.metrics import confusion_matrix, accuracy_score\nimport sklearn.metrics as metrics",
      "metadata": {
        "trusted": true
      },
      "outputs": [],
      "execution_count": 4
    },
    {
      "cell_type": "markdown",
      "source": "### Importing the Dataset\n",
      "metadata": {}
    },
    {
      "cell_type": "code",
      "source": "from pyodide.http import pyfetch\n\nasync def download(url, filename):\n    response = await pyfetch(url)\n    if response.status == 200:\n        with open(filename, \"wb\") as f:\n            f.write(await response.bytes())",
      "metadata": {
        "trusted": true
      },
      "outputs": [],
      "execution_count": 5
    },
    {
      "cell_type": "code",
      "source": "path='https://cf-courses-data.s3.us.cloud-object-storage.appdomain.cloud/IBMDeveloperSkillsNetwork-ML0101EN-SkillUp/labs/ML-FinalAssignment/Weather_Data.csv'",
      "metadata": {
        "trusted": true
      },
      "outputs": [],
      "execution_count": 6
    },
    {
      "cell_type": "code",
      "source": "await download(path, \"Weather_Data.csv\")\nfilename =\"Weather_Data.csv\"",
      "metadata": {
        "trusted": true
      },
      "outputs": [],
      "execution_count": 7
    },
    {
      "cell_type": "code",
      "source": "df = pd.read_csv(\"Weather_Data.csv\")\ndf.head()",
      "metadata": {
        "trusted": true
      },
      "outputs": [
        {
          "execution_count": 8,
          "output_type": "execute_result",
          "data": {
            "text/plain": "       Date  MinTemp  MaxTemp  Rainfall  Evaporation  Sunshine WindGustDir  \\\n0  2/1/2008     19.5     22.4      15.6          6.2       0.0           W   \n1  2/2/2008     19.5     25.6       6.0          3.4       2.7           W   \n2  2/3/2008     21.6     24.5       6.6          2.4       0.1           W   \n3  2/4/2008     20.2     22.8      18.8          2.2       0.0           W   \n4  2/5/2008     19.7     25.7      77.4          4.8       0.0           W   \n\n   WindGustSpeed WindDir9am WindDir3pm  ...  Humidity9am  Humidity3pm  \\\n0             41          S        SSW  ...           92           84   \n1             41          W          E  ...           83           73   \n2             41        ESE        ESE  ...           88           86   \n3             41        NNE          E  ...           83           90   \n4             41        NNE          W  ...           88           74   \n\n   Pressure9am  Pressure3pm  Cloud9am  Cloud3pm  Temp9am  Temp3pm  RainToday  \\\n0       1017.6       1017.4         8         8     20.7     20.9        Yes   \n1       1017.9       1016.4         7         7     22.4     24.8        Yes   \n2       1016.7       1015.6         7         8     23.5     23.0        Yes   \n3       1014.2       1011.8         8         8     21.4     20.9        Yes   \n4       1008.3       1004.8         8         8     22.5     25.5        Yes   \n\n   RainTomorrow  \n0           Yes  \n1           Yes  \n2           Yes  \n3           Yes  \n4           Yes  \n\n[5 rows x 22 columns]",
            "text/html": "<div>\n<style scoped>\n    .dataframe tbody tr th:only-of-type {\n        vertical-align: middle;\n    }\n\n    .dataframe tbody tr th {\n        vertical-align: top;\n    }\n\n    .dataframe thead th {\n        text-align: right;\n    }\n</style>\n<table border=\"1\" class=\"dataframe\">\n  <thead>\n    <tr style=\"text-align: right;\">\n      <th></th>\n      <th>Date</th>\n      <th>MinTemp</th>\n      <th>MaxTemp</th>\n      <th>Rainfall</th>\n      <th>Evaporation</th>\n      <th>Sunshine</th>\n      <th>WindGustDir</th>\n      <th>WindGustSpeed</th>\n      <th>WindDir9am</th>\n      <th>WindDir3pm</th>\n      <th>...</th>\n      <th>Humidity9am</th>\n      <th>Humidity3pm</th>\n      <th>Pressure9am</th>\n      <th>Pressure3pm</th>\n      <th>Cloud9am</th>\n      <th>Cloud3pm</th>\n      <th>Temp9am</th>\n      <th>Temp3pm</th>\n      <th>RainToday</th>\n      <th>RainTomorrow</th>\n    </tr>\n  </thead>\n  <tbody>\n    <tr>\n      <th>0</th>\n      <td>2/1/2008</td>\n      <td>19.5</td>\n      <td>22.4</td>\n      <td>15.6</td>\n      <td>6.2</td>\n      <td>0.0</td>\n      <td>W</td>\n      <td>41</td>\n      <td>S</td>\n      <td>SSW</td>\n      <td>...</td>\n      <td>92</td>\n      <td>84</td>\n      <td>1017.6</td>\n      <td>1017.4</td>\n      <td>8</td>\n      <td>8</td>\n      <td>20.7</td>\n      <td>20.9</td>\n      <td>Yes</td>\n      <td>Yes</td>\n    </tr>\n    <tr>\n      <th>1</th>\n      <td>2/2/2008</td>\n      <td>19.5</td>\n      <td>25.6</td>\n      <td>6.0</td>\n      <td>3.4</td>\n      <td>2.7</td>\n      <td>W</td>\n      <td>41</td>\n      <td>W</td>\n      <td>E</td>\n      <td>...</td>\n      <td>83</td>\n      <td>73</td>\n      <td>1017.9</td>\n      <td>1016.4</td>\n      <td>7</td>\n      <td>7</td>\n      <td>22.4</td>\n      <td>24.8</td>\n      <td>Yes</td>\n      <td>Yes</td>\n    </tr>\n    <tr>\n      <th>2</th>\n      <td>2/3/2008</td>\n      <td>21.6</td>\n      <td>24.5</td>\n      <td>6.6</td>\n      <td>2.4</td>\n      <td>0.1</td>\n      <td>W</td>\n      <td>41</td>\n      <td>ESE</td>\n      <td>ESE</td>\n      <td>...</td>\n      <td>88</td>\n      <td>86</td>\n      <td>1016.7</td>\n      <td>1015.6</td>\n      <td>7</td>\n      <td>8</td>\n      <td>23.5</td>\n      <td>23.0</td>\n      <td>Yes</td>\n      <td>Yes</td>\n    </tr>\n    <tr>\n      <th>3</th>\n      <td>2/4/2008</td>\n      <td>20.2</td>\n      <td>22.8</td>\n      <td>18.8</td>\n      <td>2.2</td>\n      <td>0.0</td>\n      <td>W</td>\n      <td>41</td>\n      <td>NNE</td>\n      <td>E</td>\n      <td>...</td>\n      <td>83</td>\n      <td>90</td>\n      <td>1014.2</td>\n      <td>1011.8</td>\n      <td>8</td>\n      <td>8</td>\n      <td>21.4</td>\n      <td>20.9</td>\n      <td>Yes</td>\n      <td>Yes</td>\n    </tr>\n    <tr>\n      <th>4</th>\n      <td>2/5/2008</td>\n      <td>19.7</td>\n      <td>25.7</td>\n      <td>77.4</td>\n      <td>4.8</td>\n      <td>0.0</td>\n      <td>W</td>\n      <td>41</td>\n      <td>NNE</td>\n      <td>W</td>\n      <td>...</td>\n      <td>88</td>\n      <td>74</td>\n      <td>1008.3</td>\n      <td>1004.8</td>\n      <td>8</td>\n      <td>8</td>\n      <td>22.5</td>\n      <td>25.5</td>\n      <td>Yes</td>\n      <td>Yes</td>\n    </tr>\n  </tbody>\n</table>\n<p>5 rows × 22 columns</p>\n</div>"
          },
          "metadata": {}
        }
      ],
      "execution_count": 8
    },
    {
      "cell_type": "markdown",
      "source": "### Data Preprocessing\n",
      "metadata": {}
    },
    {
      "cell_type": "markdown",
      "source": "#### One Hot Encoding\n",
      "metadata": {}
    },
    {
      "cell_type": "markdown",
      "source": "First, we need to perform one hot encoding to convert categorical variables to binary variables.\n",
      "metadata": {}
    },
    {
      "cell_type": "code",
      "source": "df_sydney_processed = pd.get_dummies(data=df, columns=['RainToday', 'WindGustDir', 'WindDir9am', 'WindDir3pm'])",
      "metadata": {
        "trusted": true
      },
      "outputs": [],
      "execution_count": 9
    },
    {
      "cell_type": "markdown",
      "source": "Next, we replace the values of the 'RainTomorrow' column changing them from a categorical column to a binary column. We do not use the `get_dummies` method because we would end up with two columns for 'RainTomorrow' and we do not want, since 'RainTomorrow' is our target.\n",
      "metadata": {}
    },
    {
      "cell_type": "code",
      "source": "df_sydney_processed.replace(['No', 'Yes'], [0,1], inplace=True)",
      "metadata": {
        "trusted": true
      },
      "outputs": [],
      "execution_count": 10
    },
    {
      "cell_type": "markdown",
      "source": "### Training Data and Test Data\n",
      "metadata": {}
    },
    {
      "cell_type": "markdown",
      "source": "Now, we set our 'features' or x values and our Y or target variable.\n",
      "metadata": {}
    },
    {
      "cell_type": "code",
      "source": "df_sydney_processed.drop('Date',axis=1,inplace=True)",
      "metadata": {
        "trusted": true
      },
      "outputs": [],
      "execution_count": 11
    },
    {
      "cell_type": "code",
      "source": "df_sydney_processed = df_sydney_processed.astype(float)",
      "metadata": {
        "trusted": true
      },
      "outputs": [],
      "execution_count": 12
    },
    {
      "cell_type": "code",
      "source": "features = df_sydney_processed.drop(columns='RainTomorrow', axis=1)\nY = df_sydney_processed['RainTomorrow']",
      "metadata": {
        "trusted": true
      },
      "outputs": [],
      "execution_count": 13
    },
    {
      "cell_type": "markdown",
      "source": "### Linear Regression\n",
      "metadata": {}
    },
    {
      "cell_type": "markdown",
      "source": "#### Q1) Use the `train_test_split` function to split the `features` and `Y` dataframes with a `test_size` of `0.2` and the `random_state` set to `10`.\n",
      "metadata": {}
    },
    {
      "cell_type": "code",
      "source": "#Enter Your Code, Execute and take the Screenshot\nx_train, x_test, y_train, y_test = train_test_split(features, Y, test_size = 0.2, random_state = 10)",
      "metadata": {
        "trusted": true
      },
      "outputs": [],
      "execution_count": 18
    },
    {
      "cell_type": "code",
      "source": "x_train, x_test, y_train, y_test",
      "metadata": {
        "trusted": true
      },
      "outputs": [
        {
          "execution_count": 21,
          "output_type": "execute_result",
          "data": {
            "text/plain": "(      MinTemp  MaxTemp  Rainfall  Evaporation  Sunshine  WindGustSpeed  \\\n 3188     14.8     22.0      33.8          4.2       1.5           50.0   \n 2582      8.1     18.4       0.0          4.8       8.5           41.0   \n 815      15.4     21.1       0.0          3.8       5.9           41.0   \n 1024     20.0     26.5       0.0          8.6      13.1           30.0   \n 1320     14.8     18.3      38.8          7.4       0.1           48.0   \n ...       ...      ...       ...          ...       ...            ...   \n 3195     11.7     17.9       8.8          7.8       6.1           54.0   \n 1344     17.0     21.7       0.0          5.4      10.7           26.0   \n 527       6.7     17.3       0.0          2.6       6.9           41.0   \n 3197     15.0     22.7       9.4          4.2       2.8           43.0   \n 1289     15.9     30.1       0.2          7.6      12.2           33.0   \n \n       WindSpeed9am  WindSpeed3pm  Humidity9am  Humidity3pm  ...  \\\n 3188          19.0          24.0         90.0         49.0  ...   \n 2582          20.0          11.0         70.0         50.0  ...   \n 815            7.0          28.0         59.0         41.0  ...   \n 1024           7.0          20.0         64.0         63.0  ...   \n 1320          19.0          24.0         93.0         86.0  ...   \n ...            ...           ...          ...          ...  ...   \n 3195          26.0          26.0         51.0         56.0  ...   \n 1344          15.0          20.0         50.0         47.0  ...   \n 527           17.0           7.0         79.0         42.0  ...   \n 3197          19.0          17.0         71.0         75.0  ...   \n 1289          11.0           9.0         59.0         39.0  ...   \n \n       WindDir3pm_NNW  WindDir3pm_NW  WindDir3pm_S  WindDir3pm_SE  \\\n 3188             0.0            0.0           0.0            0.0   \n 2582             0.0            0.0           0.0            0.0   \n 815              0.0            0.0           0.0            0.0   \n 1024             0.0            0.0           0.0            0.0   \n 1320             0.0            0.0           0.0            0.0   \n ...              ...            ...           ...            ...   \n 3195             0.0            0.0           0.0            0.0   \n 1344             0.0            0.0           0.0            0.0   \n 527              0.0            1.0           0.0            0.0   \n 3197             0.0            0.0           0.0            0.0   \n 1289             0.0            0.0           0.0            0.0   \n \n       WindDir3pm_SSE  WindDir3pm_SSW  WindDir3pm_SW  WindDir3pm_W  \\\n 3188             0.0             0.0            0.0           0.0   \n 2582             0.0             0.0            0.0           0.0   \n 815              0.0             0.0            0.0           1.0   \n 1024             0.0             0.0            0.0           0.0   \n 1320             1.0             0.0            0.0           0.0   \n ...              ...             ...            ...           ...   \n 3195             0.0             0.0            0.0           1.0   \n 1344             0.0             0.0            0.0           0.0   \n 527              0.0             0.0            0.0           0.0   \n 3197             0.0             1.0            0.0           0.0   \n 1289             0.0             0.0            0.0           0.0   \n \n       WindDir3pm_WNW  WindDir3pm_WSW  \n 3188             0.0             0.0  \n 2582             0.0             0.0  \n 815              0.0             0.0  \n 1024             0.0             0.0  \n 1320             0.0             0.0  \n ...              ...             ...  \n 3195             0.0             0.0  \n 1344             0.0             0.0  \n 527              0.0             0.0  \n 3197             0.0             0.0  \n 1289             0.0             0.0  \n \n [2616 rows x 66 columns],\n       MinTemp  MaxTemp  Rainfall  Evaporation  Sunshine  WindGustSpeed  \\\n 3066     18.7     35.7       0.2          6.0       9.8           57.0   \n 2456     15.0     24.8      22.4          3.4       9.7           37.0   \n 1629      8.5     16.0       3.4          2.0       4.3           74.0   \n 838      11.7     19.9       1.6          1.4       4.6           41.0   \n 2506      7.9     19.3       2.2          4.0      10.1           46.0   \n ...       ...      ...       ...          ...       ...            ...   \n 2632     12.2     19.9       0.0          4.2       8.2           43.0   \n 1725     20.1     28.7       0.2          4.2      10.7           31.0   \n 1158     11.6     15.7      18.2          4.8       0.3           57.0   \n 1661     16.9     23.9       0.0          9.8       9.9           57.0   \n 68       15.6     22.2      22.8          5.4       5.8           41.0   \n \n       WindSpeed9am  WindSpeed3pm  Humidity9am  Humidity3pm  ...  \\\n 3066          13.0          17.0         44.0         24.0  ...   \n 2456          19.0          20.0         72.0         53.0  ...   \n 1629          35.0          22.0         84.0         87.0  ...   \n 838           15.0           7.0         92.0         53.0  ...   \n 2506          28.0          20.0         49.0         34.0  ...   \n ...            ...           ...          ...          ...  ...   \n 2632           9.0          28.0         53.0         57.0  ...   \n 1725          11.0          20.0         70.0         65.0  ...   \n 1158          28.0          35.0         89.0         67.0  ...   \n 1661          19.0          28.0         60.0         51.0  ...   \n 68            13.0          20.0         96.0         62.0  ...   \n \n       WindDir3pm_NNW  WindDir3pm_NW  WindDir3pm_S  WindDir3pm_SE  \\\n 3066             0.0            0.0           0.0            0.0   \n 2456             0.0            0.0           0.0            0.0   \n 1629             0.0            0.0           0.0            0.0   \n 838              0.0            0.0           0.0            0.0   \n 2506             0.0            0.0           0.0            0.0   \n ...              ...            ...           ...            ...   \n 2632             0.0            0.0           0.0            1.0   \n 1725             0.0            0.0           0.0            0.0   \n 1158             0.0            0.0           0.0            0.0   \n 1661             0.0            0.0           0.0            0.0   \n 68               0.0            0.0           0.0            0.0   \n \n       WindDir3pm_SSE  WindDir3pm_SSW  WindDir3pm_SW  WindDir3pm_W  \\\n 3066             0.0             0.0            0.0           0.0   \n 2456             1.0             0.0            0.0           0.0   \n 1629             0.0             1.0            0.0           0.0   \n 838              0.0             0.0            0.0           0.0   \n 2506             0.0             0.0            0.0           1.0   \n ...              ...             ...            ...           ...   \n 2632             0.0             0.0            0.0           0.0   \n 1725             0.0             0.0            0.0           0.0   \n 1158             1.0             0.0            0.0           0.0   \n 1661             1.0             0.0            0.0           0.0   \n 68               0.0             0.0            0.0           0.0   \n \n       WindDir3pm_WNW  WindDir3pm_WSW  \n 3066             0.0             0.0  \n 2456             0.0             0.0  \n 1629             0.0             0.0  \n 838              0.0             0.0  \n 2506             0.0             0.0  \n ...              ...             ...  \n 2632             0.0             0.0  \n 1725             0.0             0.0  \n 1158             0.0             0.0  \n 1661             0.0             0.0  \n 68               0.0             0.0  \n \n [655 rows x 66 columns],\n 3188    1.0\n 2582    0.0\n 815     1.0\n 1024    0.0\n 1320    1.0\n        ... \n 3195    0.0\n 1344    0.0\n 527     0.0\n 3197    1.0\n 1289    0.0\n Name: RainTomorrow, Length: 2616, dtype: float64,\n 3066    0.0\n 2456    0.0\n 1629    1.0\n 838     1.0\n 2506    0.0\n        ... \n 2632    1.0\n 1725    0.0\n 1158    1.0\n 1661    0.0\n 68      1.0\n Name: RainTomorrow, Length: 655, dtype: float64)"
          },
          "metadata": {}
        }
      ],
      "execution_count": 21
    },
    {
      "cell_type": "markdown",
      "source": "#### Q2) Create and train a Linear Regression model called LinearReg using the training data (`x_train`, `y_train`).\n",
      "metadata": {}
    },
    {
      "cell_type": "code",
      "source": "#Enter Your Code, Execute and take the Screenshot\nLinearReg.fit(x_train,y_train)",
      "metadata": {
        "trusted": true
      },
      "outputs": [
        {
          "execution_count": 26,
          "output_type": "execute_result",
          "data": {
            "text/plain": "LinearRegression()",
            "text/html": "<style>#sk-container-id-4 {color: black;}#sk-container-id-4 pre{padding: 0;}#sk-container-id-4 div.sk-toggleable {background-color: white;}#sk-container-id-4 label.sk-toggleable__label {cursor: pointer;display: block;width: 100%;margin-bottom: 0;padding: 0.3em;box-sizing: border-box;text-align: center;}#sk-container-id-4 label.sk-toggleable__label-arrow:before {content: \"▸\";float: left;margin-right: 0.25em;color: #696969;}#sk-container-id-4 label.sk-toggleable__label-arrow:hover:before {color: black;}#sk-container-id-4 div.sk-estimator:hover label.sk-toggleable__label-arrow:before {color: black;}#sk-container-id-4 div.sk-toggleable__content {max-height: 0;max-width: 0;overflow: hidden;text-align: left;background-color: #f0f8ff;}#sk-container-id-4 div.sk-toggleable__content pre {margin: 0.2em;color: black;border-radius: 0.25em;background-color: #f0f8ff;}#sk-container-id-4 input.sk-toggleable__control:checked~div.sk-toggleable__content {max-height: 200px;max-width: 100%;overflow: auto;}#sk-container-id-4 input.sk-toggleable__control:checked~label.sk-toggleable__label-arrow:before {content: \"▾\";}#sk-container-id-4 div.sk-estimator input.sk-toggleable__control:checked~label.sk-toggleable__label {background-color: #d4ebff;}#sk-container-id-4 div.sk-label input.sk-toggleable__control:checked~label.sk-toggleable__label {background-color: #d4ebff;}#sk-container-id-4 input.sk-hidden--visually {border: 0;clip: rect(1px 1px 1px 1px);clip: rect(1px, 1px, 1px, 1px);height: 1px;margin: -1px;overflow: hidden;padding: 0;position: absolute;width: 1px;}#sk-container-id-4 div.sk-estimator {font-family: monospace;background-color: #f0f8ff;border: 1px dotted black;border-radius: 0.25em;box-sizing: border-box;margin-bottom: 0.5em;}#sk-container-id-4 div.sk-estimator:hover {background-color: #d4ebff;}#sk-container-id-4 div.sk-parallel-item::after {content: \"\";width: 100%;border-bottom: 1px solid gray;flex-grow: 1;}#sk-container-id-4 div.sk-label:hover label.sk-toggleable__label {background-color: #d4ebff;}#sk-container-id-4 div.sk-serial::before {content: \"\";position: absolute;border-left: 1px solid gray;box-sizing: border-box;top: 0;bottom: 0;left: 50%;z-index: 0;}#sk-container-id-4 div.sk-serial {display: flex;flex-direction: column;align-items: center;background-color: white;padding-right: 0.2em;padding-left: 0.2em;position: relative;}#sk-container-id-4 div.sk-item {position: relative;z-index: 1;}#sk-container-id-4 div.sk-parallel {display: flex;align-items: stretch;justify-content: center;background-color: white;position: relative;}#sk-container-id-4 div.sk-item::before, #sk-container-id-4 div.sk-parallel-item::before {content: \"\";position: absolute;border-left: 1px solid gray;box-sizing: border-box;top: 0;bottom: 0;left: 50%;z-index: -1;}#sk-container-id-4 div.sk-parallel-item {display: flex;flex-direction: column;z-index: 1;position: relative;background-color: white;}#sk-container-id-4 div.sk-parallel-item:first-child::after {align-self: flex-end;width: 50%;}#sk-container-id-4 div.sk-parallel-item:last-child::after {align-self: flex-start;width: 50%;}#sk-container-id-4 div.sk-parallel-item:only-child::after {width: 0;}#sk-container-id-4 div.sk-dashed-wrapped {border: 1px dashed gray;margin: 0 0.4em 0.5em 0.4em;box-sizing: border-box;padding-bottom: 0.4em;background-color: white;}#sk-container-id-4 div.sk-label label {font-family: monospace;font-weight: bold;display: inline-block;line-height: 1.2em;}#sk-container-id-4 div.sk-label-container {text-align: center;}#sk-container-id-4 div.sk-container {/* jupyter's `normalize.less` sets `[hidden] { display: none; }` but bootstrap.min.css set `[hidden] { display: none !important; }` so we also need the `!important` here to be able to override the default hidden behavior on the sphinx rendered scikit-learn.org. See: https://github.com/scikit-learn/scikit-learn/issues/21755 */display: inline-block !important;position: relative;}#sk-container-id-4 div.sk-text-repr-fallback {display: none;}</style><div id=\"sk-container-id-4\" class=\"sk-top-container\"><div class=\"sk-text-repr-fallback\"><pre>LinearRegression()</pre><b>In a Jupyter environment, please rerun this cell to show the HTML representation or trust the notebook. <br />On GitHub, the HTML representation is unable to render, please try loading this page with nbviewer.org.</b></div><div class=\"sk-container\" hidden><div class=\"sk-item\"><div class=\"sk-estimator sk-toggleable\"><input class=\"sk-toggleable__control sk-hidden--visually\" id=\"sk-estimator-id-4\" type=\"checkbox\" checked><label for=\"sk-estimator-id-4\" class=\"sk-toggleable__label sk-toggleable__label-arrow\">LinearRegression</label><div class=\"sk-toggleable__content\"><pre>LinearRegression()</pre></div></div></div></div></div>"
          },
          "metadata": {}
        }
      ],
      "execution_count": 26
    },
    {
      "cell_type": "code",
      "source": "",
      "metadata": {
        "trusted": true
      },
      "outputs": [],
      "execution_count": null
    },
    {
      "cell_type": "markdown",
      "source": "#### Q3) Now use the `predict` method on the testing data (`x_test`) and save it to the array `predictions`.\n",
      "metadata": {}
    },
    {
      "cell_type": "code",
      "source": "#Enter Your Code, Execute and take the Screenshot\npredictions = LinearReg.predict(x_test)",
      "metadata": {
        "trusted": true
      },
      "outputs": [],
      "execution_count": 28
    },
    {
      "cell_type": "code",
      "source": "predictions",
      "metadata": {
        "trusted": true
      },
      "outputs": [
        {
          "execution_count": 29,
          "output_type": "execute_result",
          "data": {
            "text/plain": "array([ 1.31855965e-01,  2.76211739e-01,  9.78150368e-01,  2.87430763e-01,\n        1.32456779e-01,  4.60427284e-01,  3.56804848e-01,  8.56410027e-01,\n        6.74990654e-01,  3.82699966e-02,  4.74643707e-03,  2.81208992e-01,\n        3.39039803e-01,  7.81641006e-02,  6.25829697e-02,  5.64415932e-01,\n       -6.15377426e-02,  5.24134636e-01,  1.53763771e-01,  3.59679222e-01,\n        6.05459213e-02,  9.03546333e-01,  4.67305183e-01,  2.03396797e-01,\n       -7.10687637e-02,  3.83820534e-01,  5.36084175e-01, -2.28509903e-02,\n        6.40156746e-01, -9.55972672e-02,  3.78094673e-01,  1.20156288e-01,\n       -1.81436539e-02,  5.53483963e-02,  5.63580513e-01,  1.06301022e+00,\n       -6.73580170e-03,  5.14359474e-01, -8.83493423e-02,  6.91537857e-02,\n        2.44588852e-02,  8.71775627e-01,  2.44673729e-01,  3.94682884e-01,\n        2.67556190e-01,  4.46749687e-01, -4.75320816e-02,  1.89469337e-01,\n        7.76558876e-01,  1.57780647e-01,  3.95870209e-03, -5.19609451e-02,\n        2.07303047e-01, -2.07882881e-01, -7.60984421e-02,  2.49646187e-01,\n        2.79334068e-01,  6.02713585e-01,  6.29582405e-01,  4.90693092e-01,\n        5.64527512e-02,  1.05542183e-01,  6.70048714e-01,  7.64754295e-01,\n        9.84525681e-02, -6.32772446e-02,  4.13784981e-01,  7.25107193e-02,\n        2.49878883e-01,  2.56470680e-01,  3.77588272e-02, -6.88924789e-02,\n        3.48217964e-01,  1.73068047e-01,  4.15427208e-01, -7.24916458e-02,\n        3.41181755e-01,  1.86945915e-01, -1.54822350e-01,  7.99759865e-01,\n        2.32451439e-01,  2.37332344e-01,  2.56121635e-01,  1.03432655e-01,\n        6.20755196e-01,  1.29649162e-01,  3.71436119e-01,  4.83046532e-01,\n        3.08220863e-01,  1.19435310e-01,  5.47971725e-02,  1.12833977e-01,\n       -1.62421227e-01, -1.58057213e-01,  7.29036331e-02,  7.76402473e-01,\n        8.43114853e-02,  6.43038750e-01,  1.21758461e-01,  1.77998543e-01,\n        3.04875374e-01,  1.85484886e-01,  1.13149357e+00,  3.44445229e-01,\n        8.26846123e-01,  5.38842201e-01,  2.74418831e-01,  6.29410744e-01,\n       -6.72140121e-02,  9.63507652e-01,  5.62014580e-01,  2.34422684e-02,\n        1.05645180e-01,  9.38730240e-02,  8.15610886e-02,  2.92132378e-01,\n        5.55066109e-01,  6.68382645e-02,  4.25863266e-02,  9.50813293e-04,\n        1.37654305e-01, -2.18058586e-01,  7.01379776e-02,  1.19828224e-01,\n        1.92812920e-01, -3.82184982e-02,  1.56050682e-01,  7.12616920e-01,\n        2.62316704e-01,  5.34813881e-01,  3.97793770e-01, -4.64963913e-02,\n        2.44048119e-01,  2.06271172e-01,  2.80352592e-01, -1.28212929e-01,\n        1.19462013e-01,  3.83360863e-01,  1.84435844e-01,  7.28491783e-01,\n        3.31810951e-01, -1.03238106e-01,  2.39466667e-01,  3.06044579e-01,\n        6.63098335e-01,  2.21605301e-02,  1.60012245e-01,  5.21580696e-01,\n       -4.34350967e-02,  7.98392296e-01,  2.21726418e-01,  3.89834404e-01,\n       -5.63497543e-02,  4.02367592e-01,  2.34213829e-01,  1.20347023e-01,\n        3.05485725e-01,  7.86198616e-01,  3.32632065e-02,  1.22554493e+00,\n        8.94633293e-01,  8.18548203e-02, -1.51529312e-02,  1.71021461e-01,\n       -6.85510635e-02, -1.07810020e-01, -5.01966476e-02,  2.98678398e-01,\n        3.57098579e-01,  9.57841873e-02,  8.85279655e-01, -3.33318710e-02,\n        5.99213600e-01,  8.96100998e-02,  9.83514786e-02,  3.54073524e-01,\n        2.36012459e-01, -6.73131943e-02,  1.44307137e-01,  4.17862892e-01,\n        5.87426186e-01,  2.16811180e-01, -3.33204269e-02,  1.00633526e+00,\n        4.26015854e-02, -1.73501968e-02,  2.48303413e-01, -5.93366623e-02,\n        2.22191811e-01, -7.19194412e-02,  8.46986771e-02,  7.15417862e-02,\n        3.49569321e-02,  4.43455696e-01,  1.86888695e-01,  1.83165550e-01,\n        7.56616592e-02,  1.36766434e-02,  1.84636116e-01,  2.32354164e-01,\n        5.30577660e-01,  1.60344124e-01,  3.95300865e-01, -4.49285507e-02,\n        8.39287758e-01,  1.66654587e-02, -1.69668198e-02, -2.13785172e-02,\n        1.46426201e-01,  1.38068199e-01, -3.34157944e-02,  4.14811134e-01,\n        6.57275200e-01, -4.91428375e-03,  2.86073685e-02,  4.61206436e-02,\n       -7.21921921e-02,  2.73795128e-01,  5.28618813e-01, -5.89914322e-02,\n        8.43161583e-01,  3.25865746e-01,  3.18892479e-01,  3.63855362e-02,\n       -8.52117538e-02,  2.83293724e-01,  3.01281929e-01,  1.37722969e-01,\n        3.35816383e-01,  4.12459373e-01,  3.75191689e-01,  1.24066353e-01,\n        2.87838936e-01,  9.06184196e-01,  4.45517540e-01,  2.74867058e-01,\n       -6.52599335e-03,  6.91836357e-01,  6.71879768e-01,  1.15435600e-01,\n        7.74506569e-01,  9.94265556e-01,  5.87637901e-01,  3.14362526e-01,\n        2.26382256e-01, -4.46939468e-02,  2.25932121e-01,  2.30643272e-01,\n        3.54950905e-01, -1.26566887e-01,  3.52945328e-02,  1.82234764e-01,\n        2.15302467e-01,  1.76196098e-01, -2.96468735e-02,  1.00046062e+00,\n        1.88227654e-01,  7.52146721e-01,  6.19746208e-01,  7.17783928e-01,\n        3.15655708e-01,  2.23455429e-02,  3.26430321e-01, -6.85214996e-03,\n        2.81590462e-01, -2.27537155e-02,  7.98635483e-02, -2.36225128e-03,\n        3.57045174e-01,  1.36456490e-01,  2.65744209e-01,  1.39818192e-02,\n        2.21043587e-01,  7.07413673e-01,  1.59554482e-01,  2.04449654e-01,\n        5.38201332e-01, -1.52577400e-01,  2.54822731e-01,  2.76402473e-01,\n        2.63985634e-01,  6.68687820e-02,  9.74335670e-01,  2.00001717e-01,\n        7.55763054e-01, -3.49473953e-02,  4.87664223e-01,  5.91754913e-03,\n       -7.24592209e-02,  3.05621147e-01, -2.05054283e-01,  1.91027641e-01,\n       -2.46191025e-02, -7.71055222e-02,  2.78946877e-01,  7.84215927e-02,\n        2.33912468e-01,  4.44897652e-01,  6.62546158e-02, -3.30991745e-02,\n        5.83180428e-01,  5.78050613e-02,  3.20446968e-01,  7.24196434e-01,\n        1.35350227e-01, -2.21910477e-02,  7.33059883e-01, -3.08279991e-01,\n        1.09129810e+00,  2.85948753e-01,  8.85001183e-01,  6.96587563e-01,\n        5.85268974e-01, -2.22692490e-02,  9.52046394e-01,  7.14970589e-01,\n        4.48483467e-01,  5.80422401e-01,  1.87088966e-01,  2.29622841e-01,\n       -5.77535629e-02,  3.15207481e-01,  8.74636650e-01, -1.67360306e-02,\n        2.52507210e-01, -3.34978104e-02, -4.39634323e-02,  4.13675308e-02,\n        2.35909462e-01,  2.03043938e-01,  8.82008553e-01,  5.87212563e-01,\n        1.20083809e-01, -2.02283859e-02, -1.93204880e-02,  1.03491783e-01,\n        8.29982758e-03,  2.29212761e-01, -1.69401169e-02,  7.15055466e-02,\n        1.62659645e-01,  1.70102119e-01,  2.46514320e-01,  1.47738457e-01,\n        3.91802788e-01, -6.66074753e-02,  1.15689278e-01,  1.84401512e-01,\n        9.07239914e-02, -1.79185867e-02,  2.09279060e-01, -1.30491257e-02,\n        5.46408653e-01,  4.15822029e-01,  1.78135872e-01,  1.72128677e-02,\n        4.93802071e-01,  1.47170067e-01,  5.24819374e-01,  5.98158836e-01,\n        3.08276176e-01,  3.09288979e-01,  4.46429253e-01,  1.68145180e-01,\n        2.60802269e-01,  7.56291389e-01,  4.06231880e-01,  4.90698814e-01,\n        5.14269829e-01, -1.30208015e-01,  7.90681839e-02,  3.50544930e-01,\n        1.00465107e+00,  2.73385048e-01,  6.35388374e-01,  5.78583717e-01,\n        4.68220711e-01,  3.72028351e-03,  3.58990669e-01,  6.75001144e-02,\n       -4.23879623e-02,  7.03282356e-01,  1.27146721e-01,  8.00093651e-01,\n        4.70822334e-01, -1.74283981e-02,  2.93550491e-02,  5.55272102e-01,\n        5.00802994e-02,  1.15235329e-01, -9.68837738e-03,  1.47488594e-01,\n        4.71154213e-01, -9.27171707e-02,  8.09564590e-02,  3.10297012e-02,\n        3.94795418e-01,  2.23807335e-01,  1.00323582e+00,  7.08058357e-01,\n        3.56068611e-01,  2.62976646e-01, -2.83460617e-02, -9.58919525e-03,\n        3.09400558e-02,  1.41762733e-01,  7.82594681e-02,  5.12629509e-01,\n        2.04819679e-01,  3.11682701e-01,  5.28512001e-01,  4.61871147e-01,\n        5.35745621e-02,  8.17204475e-01,  5.33886909e-01, -1.38157845e-01,\n        5.09407997e-01,  1.94123268e-01,  4.56147194e-01,  1.85227394e-01,\n        2.22037315e-01,  1.15601540e-01,  6.33573532e-02,  7.37295151e-02,\n        1.02438927e-01,  5.51369667e-01,  7.02933311e-01,  5.22097588e-01,\n        5.35088539e-01,  3.20100784e-02,  1.11029625e-01, -1.18672371e-01,\n        5.31807899e-01, -1.74403191e-01,  4.54415321e-01,  9.74318504e-01,\n        4.18192863e-01, -1.16019249e-01,  8.70667458e-01,  1.62217140e-01,\n        6.13013268e-01,  3.17191124e-01, -7.86199570e-02,  4.93966103e-01,\n        7.44914055e-01,  6.05440140e-02,  6.03933334e-02,  2.36840248e-01,\n        5.79106331e-01,  1.10669136e-01,  3.81814003e-01,  6.02227211e-01,\n        5.84192276e-02,  2.21869469e-01,  3.88995171e-01,  6.63722038e-01,\n        1.56134605e-01,  3.97294044e-01,  5.80115318e-01,  5.03796577e-01,\n        1.06451988e-01,  1.49748802e-01,  2.33323097e-01, -3.33690643e-03,\n       -2.85768509e-02,  2.65858650e-01,  2.60586739e-01, -6.16292953e-02,\n        1.46334648e-01,  8.24749947e-01,  5.68511009e-01, -9.56296921e-02,\n       -1.02421761e-01,  8.49409103e-02,  1.61696434e-01, -7.92531967e-02,\n        9.43915367e-01,  7.94000626e-02,  3.38450432e-01,  1.57967567e-01,\n       -6.93807602e-02,  2.15086937e-01,  4.78867531e-01,  2.16112137e-02,\n        5.34373283e-01,  1.42596245e-01, -1.58440590e-01,  9.97638702e-03,\n        2.26696968e-01,  3.34805489e-01,  6.04829788e-02, -2.08787918e-02,\n       -1.07832909e-01,  3.34322929e-01,  5.10184288e-01,  3.45950127e-01,\n       -8.66804123e-02, -4.99658585e-02,  5.05278587e-01,  8.22248459e-02,\n        6.75706863e-02,  3.23060036e-01,  3.38238716e-01,  5.37301064e-01,\n        2.91878700e-01,  3.30552101e-01, -4.10356522e-02,  8.27433586e-01,\n        6.03384972e-01,  2.36741066e-01,  7.02334404e-01,  4.44634438e-01,\n        5.81152916e-01,  1.90037727e-01,  5.45091629e-02,  9.38367844e-02,\n       -6.76698685e-02,  1.05992317e-01, -2.49662399e-02, -2.93588638e-02,\n        6.56595230e-02,  9.61122513e-02,  1.03314400e-01,  1.77716255e-01,\n        1.02135658e-01,  6.64099693e-01,  1.97718620e-01,  1.04680061e-01,\n        1.13446236e-01, -3.24182510e-02,  1.46624565e-01,  4.64947701e-01,\n        7.55543709e-01,  2.03915596e-01,  4.90151405e-01, -1.01309776e-01,\n        6.61620140e-01,  7.53415108e-01,  9.01021004e-01,  7.72904396e-01,\n        2.73438454e-01,  2.98022270e-01,  1.87132835e-01,  7.19815254e-01,\n        2.29817390e-01,  3.34681511e-01,  8.51561546e-01,  3.07531357e-02,\n       -3.75461578e-03, -7.81698227e-02,  7.49781609e-01,  2.04588890e-01,\n        4.06012535e-01,  3.32322121e-01,  1.81992531e-01,  8.23328972e-01,\n        5.03199577e-01,  6.33994102e-01, -5.08489609e-02,  4.25920486e-02,\n        1.11109734e-01,  1.89202309e-01,  6.00962639e-01,  4.09108162e-01,\n        6.87754631e-01,  2.89837837e-01, -9.20019150e-02,  4.46615219e-02,\n        1.98935509e-01,  6.18893623e-01,  1.41964912e-01,  6.98912621e-01,\n        3.11856270e-01,  1.26830101e-01,  8.11478615e-01,  6.24856949e-02,\n       -1.04348183e-01,  6.60142899e-02,  1.23648643e-01,  5.18692970e-01,\n       -5.96303940e-02,  6.39700890e-01, -1.29556656e-02,  3.84340286e-02,\n       -1.04891777e-01,  1.96568489e-01,  3.36142540e-01,  4.87969398e-01,\n        1.93865776e-01,  7.93177605e-01,  1.69428825e-01,  8.55569839e-02,\n        1.68667793e-01,  1.73169136e-01,  3.24430466e-02,  4.69269753e-01,\n        2.03091621e-01,  8.46673012e-01,  4.20886040e-01,  2.17892647e-01,\n        1.81164742e-01,  1.54950142e-01,  7.26279259e-01,  4.45206642e-01,\n        4.87557411e-01,  1.01628304e-01,  4.13115501e-01, -1.13165855e-01,\n        1.79356575e-01, -9.77611542e-03,  1.39124870e-01,  1.11977577e-01,\n        6.09581947e-01,  2.16741562e-02,  1.88261986e-01, -1.35313988e-01,\n        7.06452370e-01,  4.33131218e-01, -5.83581924e-02,  9.28708076e-01,\n        5.40589333e-01, -1.67560577e-03,  9.18976784e-01, -2.18935013e-02,\n        1.65402412e-01,  1.77830696e-01,  4.72853661e-01, -2.85625458e-03,\n        4.00387764e-01,  1.42107010e-02,  1.95286751e-01, -6.79979324e-02,\n        5.87241173e-01,  1.92542076e-01,  2.33334541e-01,  2.73648262e-01,\n        9.40680504e-01,  7.10097313e-01,  1.33397102e-01,  7.37714767e-02,\n        5.58404922e-02, -2.26355553e-01,  4.11119461e-02,  5.17625809e-02,\n        3.10735703e-02,  2.93522835e-01,  9.69307899e-01,  7.98630714e-01,\n       -2.29787827e-02,  5.26533127e-02,  2.64857292e-01,  1.75183296e-01,\n        7.06358910e-01,  1.73884392e-01,  3.44296455e-01])"
          },
          "metadata": {}
        }
      ],
      "execution_count": 29
    },
    {
      "cell_type": "markdown",
      "source": "#### Q4) Using the `predictions` and the `y_test` dataframe calculate the value for each metric using the appropriate function.\n",
      "metadata": {}
    },
    {
      "cell_type": "code",
      "source": "#Enter Your Code, Execute and take the Screenshot\nfrom sklearn.metrics import mean_absolute_error, mean_squared_error, r2_score",
      "metadata": {
        "trusted": true
      },
      "outputs": [],
      "execution_count": 32
    },
    {
      "cell_type": "code",
      "source": "LinearRegression_MAE = mean_absolute_error(y_test, predictions)\nLinearRegression_MSE = mean_squared_error(y_test, predictions)\nLinearRegression_R2 = r2_score(y_test, predictions)",
      "metadata": {
        "trusted": true
      },
      "outputs": [],
      "execution_count": 33
    },
    {
      "cell_type": "markdown",
      "source": "#### Q5) Show the MAE, MSE, and R2 in a tabular format using data frame for the linear model.\n",
      "metadata": {}
    },
    {
      "cell_type": "code",
      "source": "#Enter Your Code, Execute and take the Screenshot\nprint(\"LinearRegression_MAE:\", LinearRegression_MAE)\nprint(\"LinearRegression_MSE:\", LinearRegression_MSE)\nprint(\"LinearRegression_R2:\", LinearRegression_R2)",
      "metadata": {
        "trusted": true
      },
      "outputs": [
        {
          "name": "stdout",
          "text": "LinearRegression_MAE: 0.256318933909176\nLinearRegression_MSE: 0.1157209828234031\nLinearRegression_R2: 0.4271301272061002\n",
          "output_type": "stream"
        }
      ],
      "execution_count": 34
    },
    {
      "cell_type": "code",
      "source": "Report = pd.DataFrame({\n    'Metric': ['Mean Absolute Error (MAE)', 'Mean Squared Error (MSE)', 'R-squared (R2)'],\n    'Value': [LinearRegression_MAE, LinearRegression_MSE, LinearRegression_R2]\n})\nReport",
      "metadata": {
        "trusted": true
      },
      "outputs": [
        {
          "execution_count": 35,
          "output_type": "execute_result",
          "data": {
            "text/plain": "                      Metric     Value\n0  Mean Absolute Error (MAE)  0.256319\n1   Mean Squared Error (MSE)  0.115721\n2             R-squared (R2)  0.427130",
            "text/html": "<div>\n<style scoped>\n    .dataframe tbody tr th:only-of-type {\n        vertical-align: middle;\n    }\n\n    .dataframe tbody tr th {\n        vertical-align: top;\n    }\n\n    .dataframe thead th {\n        text-align: right;\n    }\n</style>\n<table border=\"1\" class=\"dataframe\">\n  <thead>\n    <tr style=\"text-align: right;\">\n      <th></th>\n      <th>Metric</th>\n      <th>Value</th>\n    </tr>\n  </thead>\n  <tbody>\n    <tr>\n      <th>0</th>\n      <td>Mean Absolute Error (MAE)</td>\n      <td>0.256319</td>\n    </tr>\n    <tr>\n      <th>1</th>\n      <td>Mean Squared Error (MSE)</td>\n      <td>0.115721</td>\n    </tr>\n    <tr>\n      <th>2</th>\n      <td>R-squared (R2)</td>\n      <td>0.427130</td>\n    </tr>\n  </tbody>\n</table>\n</div>"
          },
          "metadata": {}
        }
      ],
      "execution_count": 35
    },
    {
      "cell_type": "markdown",
      "source": "### KNN\n",
      "metadata": {}
    },
    {
      "cell_type": "markdown",
      "source": "#### Q6) Create and train a KNN model called KNN using the training data (`x_train`, `y_train`) with the `n_neighbors` parameter set to `4`.\n",
      "metadata": {}
    },
    {
      "cell_type": "code",
      "source": "#Enter Your Code Below, Execute, and Save the Screenshot of the Final Output\nfrom sklearn.neighbors import KNeighborsRegressor",
      "metadata": {
        "trusted": true
      },
      "outputs": [],
      "execution_count": 36
    },
    {
      "cell_type": "code",
      "source": "KNN = KNeighborsRegressor(n_neighbors=4)\n\nKNN.fit(x_train, y_train)",
      "metadata": {
        "trusted": true
      },
      "outputs": [
        {
          "execution_count": 37,
          "output_type": "execute_result",
          "data": {
            "text/plain": "KNeighborsRegressor(n_neighbors=4)",
            "text/html": "<style>#sk-container-id-5 {color: black;}#sk-container-id-5 pre{padding: 0;}#sk-container-id-5 div.sk-toggleable {background-color: white;}#sk-container-id-5 label.sk-toggleable__label {cursor: pointer;display: block;width: 100%;margin-bottom: 0;padding: 0.3em;box-sizing: border-box;text-align: center;}#sk-container-id-5 label.sk-toggleable__label-arrow:before {content: \"▸\";float: left;margin-right: 0.25em;color: #696969;}#sk-container-id-5 label.sk-toggleable__label-arrow:hover:before {color: black;}#sk-container-id-5 div.sk-estimator:hover label.sk-toggleable__label-arrow:before {color: black;}#sk-container-id-5 div.sk-toggleable__content {max-height: 0;max-width: 0;overflow: hidden;text-align: left;background-color: #f0f8ff;}#sk-container-id-5 div.sk-toggleable__content pre {margin: 0.2em;color: black;border-radius: 0.25em;background-color: #f0f8ff;}#sk-container-id-5 input.sk-toggleable__control:checked~div.sk-toggleable__content {max-height: 200px;max-width: 100%;overflow: auto;}#sk-container-id-5 input.sk-toggleable__control:checked~label.sk-toggleable__label-arrow:before {content: \"▾\";}#sk-container-id-5 div.sk-estimator input.sk-toggleable__control:checked~label.sk-toggleable__label {background-color: #d4ebff;}#sk-container-id-5 div.sk-label input.sk-toggleable__control:checked~label.sk-toggleable__label {background-color: #d4ebff;}#sk-container-id-5 input.sk-hidden--visually {border: 0;clip: rect(1px 1px 1px 1px);clip: rect(1px, 1px, 1px, 1px);height: 1px;margin: -1px;overflow: hidden;padding: 0;position: absolute;width: 1px;}#sk-container-id-5 div.sk-estimator {font-family: monospace;background-color: #f0f8ff;border: 1px dotted black;border-radius: 0.25em;box-sizing: border-box;margin-bottom: 0.5em;}#sk-container-id-5 div.sk-estimator:hover {background-color: #d4ebff;}#sk-container-id-5 div.sk-parallel-item::after {content: \"\";width: 100%;border-bottom: 1px solid gray;flex-grow: 1;}#sk-container-id-5 div.sk-label:hover label.sk-toggleable__label {background-color: #d4ebff;}#sk-container-id-5 div.sk-serial::before {content: \"\";position: absolute;border-left: 1px solid gray;box-sizing: border-box;top: 0;bottom: 0;left: 50%;z-index: 0;}#sk-container-id-5 div.sk-serial {display: flex;flex-direction: column;align-items: center;background-color: white;padding-right: 0.2em;padding-left: 0.2em;position: relative;}#sk-container-id-5 div.sk-item {position: relative;z-index: 1;}#sk-container-id-5 div.sk-parallel {display: flex;align-items: stretch;justify-content: center;background-color: white;position: relative;}#sk-container-id-5 div.sk-item::before, #sk-container-id-5 div.sk-parallel-item::before {content: \"\";position: absolute;border-left: 1px solid gray;box-sizing: border-box;top: 0;bottom: 0;left: 50%;z-index: -1;}#sk-container-id-5 div.sk-parallel-item {display: flex;flex-direction: column;z-index: 1;position: relative;background-color: white;}#sk-container-id-5 div.sk-parallel-item:first-child::after {align-self: flex-end;width: 50%;}#sk-container-id-5 div.sk-parallel-item:last-child::after {align-self: flex-start;width: 50%;}#sk-container-id-5 div.sk-parallel-item:only-child::after {width: 0;}#sk-container-id-5 div.sk-dashed-wrapped {border: 1px dashed gray;margin: 0 0.4em 0.5em 0.4em;box-sizing: border-box;padding-bottom: 0.4em;background-color: white;}#sk-container-id-5 div.sk-label label {font-family: monospace;font-weight: bold;display: inline-block;line-height: 1.2em;}#sk-container-id-5 div.sk-label-container {text-align: center;}#sk-container-id-5 div.sk-container {/* jupyter's `normalize.less` sets `[hidden] { display: none; }` but bootstrap.min.css set `[hidden] { display: none !important; }` so we also need the `!important` here to be able to override the default hidden behavior on the sphinx rendered scikit-learn.org. See: https://github.com/scikit-learn/scikit-learn/issues/21755 */display: inline-block !important;position: relative;}#sk-container-id-5 div.sk-text-repr-fallback {display: none;}</style><div id=\"sk-container-id-5\" class=\"sk-top-container\"><div class=\"sk-text-repr-fallback\"><pre>KNeighborsRegressor(n_neighbors=4)</pre><b>In a Jupyter environment, please rerun this cell to show the HTML representation or trust the notebook. <br />On GitHub, the HTML representation is unable to render, please try loading this page with nbviewer.org.</b></div><div class=\"sk-container\" hidden><div class=\"sk-item\"><div class=\"sk-estimator sk-toggleable\"><input class=\"sk-toggleable__control sk-hidden--visually\" id=\"sk-estimator-id-5\" type=\"checkbox\" checked><label for=\"sk-estimator-id-5\" class=\"sk-toggleable__label sk-toggleable__label-arrow\">KNeighborsRegressor</label><div class=\"sk-toggleable__content\"><pre>KNeighborsRegressor(n_neighbors=4)</pre></div></div></div></div></div>"
          },
          "metadata": {}
        }
      ],
      "execution_count": 37
    },
    {
      "cell_type": "markdown",
      "source": "#### Q7) Now use the `predict` method on the testing data (`x_test`) and save it to the array `predictions`.\n",
      "metadata": {}
    },
    {
      "cell_type": "code",
      "source": "#Enter Your Code Below, Execute, and Save the Screenshot of the Final Output\npredictions = KNN.predict(x_test)",
      "metadata": {
        "trusted": true
      },
      "outputs": [],
      "execution_count": 39
    },
    {
      "cell_type": "code",
      "source": "predictions",
      "metadata": {
        "trusted": true
      },
      "outputs": [
        {
          "execution_count": 40,
          "output_type": "execute_result",
          "data": {
            "text/plain": "array([0.25, 0.  , 1.  , 0.  , 0.  , 0.5 , 0.25, 1.  , 0.75, 0.  , 0.  ,\n       0.  , 0.5 , 0.25, 0.  , 0.  , 0.  , 0.5 , 0.  , 0.  , 0.  , 1.  ,\n       0.  , 0.25, 0.  , 0.25, 0.25, 0.  , 0.75, 0.  , 0.25, 0.  , 0.25,\n       0.25, 0.5 , 1.  , 0.25, 0.25, 0.  , 0.  , 0.  , 1.  , 0.25, 0.  ,\n       0.  , 0.5 , 0.  , 0.  , 0.75, 0.  , 0.  , 0.  , 0.25, 0.  , 0.  ,\n       0.  , 0.25, 0.5 , 0.25, 0.25, 0.  , 0.  , 1.  , 0.75, 0.25, 0.25,\n       0.25, 0.  , 0.  , 0.25, 0.  , 0.  , 0.5 , 0.  , 0.5 , 0.  , 0.  ,\n       0.  , 0.  , 0.75, 0.5 , 0.25, 0.  , 0.  , 0.25, 0.  , 0.25, 0.25,\n       0.5 , 0.25, 0.  , 0.  , 0.  , 0.  , 0.  , 1.  , 0.  , 1.  , 0.  ,\n       0.  , 0.5 , 0.25, 1.  , 0.  , 1.  , 0.75, 0.  , 0.  , 0.25, 1.  ,\n       0.25, 0.25, 0.  , 0.25, 0.25, 0.  , 0.  , 0.  , 0.25, 0.  , 0.  ,\n       0.  , 0.  , 0.5 , 0.  , 0.  , 0.25, 0.5 , 0.  , 0.75, 0.5 , 0.  ,\n       0.5 , 0.  , 0.75, 0.  , 0.25, 0.25, 0.5 , 0.75, 0.  , 0.  , 0.  ,\n       0.25, 1.  , 0.  , 0.  , 0.25, 0.25, 0.75, 0.  , 0.25, 0.25, 0.5 ,\n       0.5 , 0.  , 0.25, 1.  , 0.25, 1.  , 0.75, 0.  , 0.  , 0.  , 0.  ,\n       0.  , 0.  , 0.5 , 1.  , 0.25, 1.  , 0.25, 0.5 , 0.  , 0.  , 0.  ,\n       0.25, 0.  , 0.  , 0.25, 1.  , 0.  , 0.  , 1.  , 0.25, 0.  , 0.  ,\n       0.  , 0.  , 0.  , 0.25, 0.  , 0.  , 0.5 , 0.25, 0.  , 0.  , 0.  ,\n       0.  , 0.  , 0.25, 0.  , 0.25, 0.  , 0.75, 0.  , 0.  , 0.  , 0.25,\n       0.  , 0.75, 0.75, 0.5 , 0.  , 0.  , 0.  , 0.  , 0.5 , 0.5 , 0.  ,\n       1.  , 0.  , 0.25, 0.  , 0.  , 0.5 , 0.25, 0.  , 0.25, 0.  , 0.  ,\n       0.  , 0.25, 0.75, 1.  , 0.  , 0.  , 0.75, 1.  , 0.  , 0.75, 1.  ,\n       0.  , 0.  , 0.75, 0.  , 0.  , 0.5 , 0.  , 0.  , 0.  , 0.25, 0.25,\n       0.  , 0.  , 0.75, 0.  , 1.  , 0.75, 0.75, 0.25, 0.  , 0.25, 0.25,\n       0.  , 0.  , 0.  , 0.  , 0.5 , 0.  , 0.5 , 0.25, 0.25, 1.  , 0.  ,\n       0.5 , 0.5 , 0.  , 0.25, 0.  , 0.25, 0.  , 1.  , 0.  , 0.5 , 0.  ,\n       0.25, 0.  , 0.  , 0.25, 0.  , 0.25, 0.  , 0.  , 0.  , 0.  , 0.  ,\n       0.75, 0.25, 0.  , 0.75, 0.  , 0.  , 0.25, 0.5 , 0.5 , 1.  , 0.  ,\n       1.  , 0.5 , 1.  , 0.75, 0.5 , 0.  , 1.  , 0.5 , 0.5 , 0.5 , 0.75,\n       0.  , 0.  , 0.75, 1.  , 0.  , 0.  , 0.  , 0.  , 0.  , 0.25, 0.25,\n       1.  , 0.5 , 0.  , 0.  , 0.  , 0.  , 0.  , 0.5 , 0.  , 0.  , 0.  ,\n       0.  , 0.25, 0.  , 0.  , 0.25, 0.  , 0.  , 0.  , 0.25, 0.  , 0.  ,\n       1.  , 0.25, 0.  , 0.  , 0.25, 0.5 , 0.75, 1.  , 0.75, 0.  , 0.75,\n       0.  , 0.25, 0.75, 0.5 , 0.25, 0.25, 0.25, 0.25, 0.  , 1.  , 0.5 ,\n       0.5 , 0.75, 0.25, 0.  , 0.5 , 0.25, 0.  , 0.5 , 0.25, 0.75, 0.5 ,\n       0.  , 0.  , 0.75, 0.  , 0.25, 0.  , 0.  , 0.75, 0.25, 0.25, 0.25,\n       0.5 , 0.  , 1.  , 1.  , 0.25, 0.25, 0.  , 0.  , 0.25, 0.  , 0.25,\n       0.25, 0.  , 0.  , 0.5 , 1.  , 0.  , 0.75, 0.25, 0.  , 0.  , 0.25,\n       0.25, 0.25, 0.  , 0.  , 0.  , 0.  , 0.  , 1.  , 0.25, 0.5 , 1.  ,\n       0.  , 0.25, 0.  , 1.  , 0.  , 0.25, 1.  , 0.25, 0.25, 1.  , 0.  ,\n       0.5 , 0.  , 0.  , 0.25, 0.75, 0.25, 0.  , 0.  , 0.25, 0.5 , 0.5 ,\n       0.75, 0.  , 0.  , 0.25, 0.25, 0.  , 0.5 , 0.5 , 0.25, 0.  , 0.75,\n       0.25, 0.  , 0.  , 0.25, 0.  , 0.  , 0.  , 1.  , 0.5 , 0.  , 0.  ,\n       0.  , 0.25, 0.  , 1.  , 0.  , 0.  , 0.  , 0.  , 0.  , 0.5 , 0.  ,\n       0.5 , 0.  , 0.  , 0.  , 0.  , 0.  , 0.  , 0.  , 0.25, 0.25, 1.  ,\n       0.  , 0.  , 0.25, 0.25, 0.25, 0.  , 0.25, 0.  , 0.5 , 0.25, 0.  ,\n       0.  , 0.75, 0.25, 0.25, 0.5 , 0.25, 0.25, 0.25, 0.25, 0.  , 0.  ,\n       0.  , 0.  , 0.  , 0.  , 0.  , 0.  , 0.  , 0.  , 0.75, 0.  , 0.  ,\n       0.  , 0.  , 0.25, 0.25, 1.  , 0.25, 0.25, 0.  , 0.75, 1.  , 1.  ,\n       1.  , 0.25, 0.  , 0.5 , 1.  , 0.25, 0.25, 0.75, 0.  , 0.  , 0.  ,\n       0.25, 0.  , 0.25, 0.25, 0.  , 1.  , 0.  , 0.75, 0.  , 0.  , 0.5 ,\n       0.  , 0.25, 0.25, 1.  , 0.  , 0.  , 0.25, 0.25, 0.75, 0.  , 0.5 ,\n       0.5 , 0.25, 1.  , 0.  , 0.  , 0.25, 0.25, 0.25, 0.25, 0.5 , 0.  ,\n       0.  , 0.  , 0.  , 0.25, 0.25, 0.25, 1.  , 0.  , 0.  , 0.  , 0.25,\n       0.  , 0.  , 0.5 , 1.  , 0.25, 0.  , 0.25, 0.  , 1.  , 0.  , 0.5 ,\n       0.  , 0.5 , 0.  , 0.25, 0.  , 0.5 , 0.  , 1.  , 0.  , 0.  , 0.  ,\n       1.  , 0.25, 0.  , 1.  , 0.  , 0.  , 0.75, 0.  , 0.25, 0.  , 0.5 ,\n       0.  , 0.25, 0.  , 0.25, 0.  , 0.75, 0.  , 0.5 , 0.  , 0.75, 0.75,\n       0.25, 0.25, 0.25, 0.25, 0.25, 0.  , 0.  , 0.  , 1.  , 0.75, 0.  ,\n       0.  , 0.  , 0.  , 0.75, 0.  , 0.75])"
          },
          "metadata": {}
        }
      ],
      "execution_count": 40
    },
    {
      "cell_type": "markdown",
      "source": "#### Q8) Using the `predictions` and the `y_test` dataframe calculate the value for each metric using the appropriate function.\n",
      "metadata": {}
    },
    {
      "cell_type": "code",
      "source": "#Enter Your Code Below, Execute, and Save the Screenshot of the Final Output\ny_test_binary = (y_test > 0.5).astype(int)\npredictions_binary = (predictions > 0.5).astype(int)",
      "metadata": {
        "trusted": true
      },
      "outputs": [],
      "execution_count": 41
    },
    {
      "cell_type": "code",
      "source": "KNN_Accuracy_Score = accuracy_score(y_test_binary, predictions_binary)\nKNN_JaccardIndex = jaccard_score(y_test_binary, predictions_binary)\nKNN_F1_Score = f1_score(y_test_binary, predictions_binary)\n\nprint(\"KNN Accuracy Score:\", KNN_Accuracy_Score)\nprint(\"KNN Jaccard Index:\", KNN_JaccardIndex)\nprint(\"KNN F1 Score:\", KNN_F1_Score)",
      "metadata": {
        "trusted": true
      },
      "outputs": [
        {
          "name": "stdout",
          "text": "KNN Accuracy Score: 0.8183206106870229\nKNN Jaccard Index: 0.4251207729468599\nKNN F1 Score: 0.5966101694915255\n",
          "output_type": "stream"
        }
      ],
      "execution_count": 42
    },
    {
      "cell_type": "markdown",
      "source": "### Decision Tree\n",
      "metadata": {}
    },
    {
      "cell_type": "markdown",
      "source": "#### Q9) Create and train a Decision Tree model called Tree using the training data (`x_train`, `y_train`).\n",
      "metadata": {}
    },
    {
      "cell_type": "code",
      "source": "#Enter Your Code, Execute and take the Screenshot\nfrom sklearn.tree import DecisionTreeRegressor",
      "metadata": {
        "trusted": true
      },
      "outputs": [],
      "execution_count": 43
    },
    {
      "cell_type": "code",
      "source": "Tree = Tree = DecisionTreeRegressor()\nTree.fit(x_train, y_train)",
      "metadata": {
        "trusted": true
      },
      "outputs": [
        {
          "execution_count": 44,
          "output_type": "execute_result",
          "data": {
            "text/plain": "DecisionTreeRegressor()",
            "text/html": "<style>#sk-container-id-6 {color: black;}#sk-container-id-6 pre{padding: 0;}#sk-container-id-6 div.sk-toggleable {background-color: white;}#sk-container-id-6 label.sk-toggleable__label {cursor: pointer;display: block;width: 100%;margin-bottom: 0;padding: 0.3em;box-sizing: border-box;text-align: center;}#sk-container-id-6 label.sk-toggleable__label-arrow:before {content: \"▸\";float: left;margin-right: 0.25em;color: #696969;}#sk-container-id-6 label.sk-toggleable__label-arrow:hover:before {color: black;}#sk-container-id-6 div.sk-estimator:hover label.sk-toggleable__label-arrow:before {color: black;}#sk-container-id-6 div.sk-toggleable__content {max-height: 0;max-width: 0;overflow: hidden;text-align: left;background-color: #f0f8ff;}#sk-container-id-6 div.sk-toggleable__content pre {margin: 0.2em;color: black;border-radius: 0.25em;background-color: #f0f8ff;}#sk-container-id-6 input.sk-toggleable__control:checked~div.sk-toggleable__content {max-height: 200px;max-width: 100%;overflow: auto;}#sk-container-id-6 input.sk-toggleable__control:checked~label.sk-toggleable__label-arrow:before {content: \"▾\";}#sk-container-id-6 div.sk-estimator input.sk-toggleable__control:checked~label.sk-toggleable__label {background-color: #d4ebff;}#sk-container-id-6 div.sk-label input.sk-toggleable__control:checked~label.sk-toggleable__label {background-color: #d4ebff;}#sk-container-id-6 input.sk-hidden--visually {border: 0;clip: rect(1px 1px 1px 1px);clip: rect(1px, 1px, 1px, 1px);height: 1px;margin: -1px;overflow: hidden;padding: 0;position: absolute;width: 1px;}#sk-container-id-6 div.sk-estimator {font-family: monospace;background-color: #f0f8ff;border: 1px dotted black;border-radius: 0.25em;box-sizing: border-box;margin-bottom: 0.5em;}#sk-container-id-6 div.sk-estimator:hover {background-color: #d4ebff;}#sk-container-id-6 div.sk-parallel-item::after {content: \"\";width: 100%;border-bottom: 1px solid gray;flex-grow: 1;}#sk-container-id-6 div.sk-label:hover label.sk-toggleable__label {background-color: #d4ebff;}#sk-container-id-6 div.sk-serial::before {content: \"\";position: absolute;border-left: 1px solid gray;box-sizing: border-box;top: 0;bottom: 0;left: 50%;z-index: 0;}#sk-container-id-6 div.sk-serial {display: flex;flex-direction: column;align-items: center;background-color: white;padding-right: 0.2em;padding-left: 0.2em;position: relative;}#sk-container-id-6 div.sk-item {position: relative;z-index: 1;}#sk-container-id-6 div.sk-parallel {display: flex;align-items: stretch;justify-content: center;background-color: white;position: relative;}#sk-container-id-6 div.sk-item::before, #sk-container-id-6 div.sk-parallel-item::before {content: \"\";position: absolute;border-left: 1px solid gray;box-sizing: border-box;top: 0;bottom: 0;left: 50%;z-index: -1;}#sk-container-id-6 div.sk-parallel-item {display: flex;flex-direction: column;z-index: 1;position: relative;background-color: white;}#sk-container-id-6 div.sk-parallel-item:first-child::after {align-self: flex-end;width: 50%;}#sk-container-id-6 div.sk-parallel-item:last-child::after {align-self: flex-start;width: 50%;}#sk-container-id-6 div.sk-parallel-item:only-child::after {width: 0;}#sk-container-id-6 div.sk-dashed-wrapped {border: 1px dashed gray;margin: 0 0.4em 0.5em 0.4em;box-sizing: border-box;padding-bottom: 0.4em;background-color: white;}#sk-container-id-6 div.sk-label label {font-family: monospace;font-weight: bold;display: inline-block;line-height: 1.2em;}#sk-container-id-6 div.sk-label-container {text-align: center;}#sk-container-id-6 div.sk-container {/* jupyter's `normalize.less` sets `[hidden] { display: none; }` but bootstrap.min.css set `[hidden] { display: none !important; }` so we also need the `!important` here to be able to override the default hidden behavior on the sphinx rendered scikit-learn.org. See: https://github.com/scikit-learn/scikit-learn/issues/21755 */display: inline-block !important;position: relative;}#sk-container-id-6 div.sk-text-repr-fallback {display: none;}</style><div id=\"sk-container-id-6\" class=\"sk-top-container\"><div class=\"sk-text-repr-fallback\"><pre>DecisionTreeRegressor()</pre><b>In a Jupyter environment, please rerun this cell to show the HTML representation or trust the notebook. <br />On GitHub, the HTML representation is unable to render, please try loading this page with nbviewer.org.</b></div><div class=\"sk-container\" hidden><div class=\"sk-item\"><div class=\"sk-estimator sk-toggleable\"><input class=\"sk-toggleable__control sk-hidden--visually\" id=\"sk-estimator-id-6\" type=\"checkbox\" checked><label for=\"sk-estimator-id-6\" class=\"sk-toggleable__label sk-toggleable__label-arrow\">DecisionTreeRegressor</label><div class=\"sk-toggleable__content\"><pre>DecisionTreeRegressor()</pre></div></div></div></div></div>"
          },
          "metadata": {}
        }
      ],
      "execution_count": 44
    },
    {
      "cell_type": "markdown",
      "source": "#### Q10) Now use the `predict` method on the testing data (`x_test`) and save it to the array `predictions`.\n",
      "metadata": {}
    },
    {
      "cell_type": "code",
      "source": "#Enter Your Code, Execute and take the Screenshot",
      "metadata": {},
      "outputs": [],
      "execution_count": null
    },
    {
      "cell_type": "code",
      "source": "predictions = Tree.predict(x_test)\npredictions",
      "metadata": {
        "trusted": true
      },
      "outputs": [
        {
          "execution_count": 45,
          "output_type": "execute_result",
          "data": {
            "text/plain": "array([0., 0., 1., 0., 0., 1., 0., 1., 1., 1., 0., 0., 0., 0., 0., 0., 0.,\n       0., 0., 0., 0., 1., 0., 0., 0., 1., 0., 0., 1., 0., 0., 0., 0., 0.,\n       0., 1., 0., 0., 0., 0., 0., 0., 0., 0., 1., 1., 0., 0., 1., 0., 0.,\n       0., 0., 0., 0., 0., 0., 1., 1., 0., 0., 0., 1., 1., 0., 0., 1., 0.,\n       0., 0., 0., 0., 0., 0., 0., 0., 1., 0., 0., 1., 0., 0., 0., 0., 1.,\n       0., 1., 1., 1., 0., 0., 0., 0., 0., 0., 1., 0., 1., 0., 0., 0., 0.,\n       1., 1., 1., 1., 0., 1., 1., 1., 1., 0., 0., 0., 0., 1., 0., 1., 0.,\n       0., 0., 0., 0., 0., 0., 0., 1., 1., 0., 1., 1., 0., 1., 0., 0., 0.,\n       0., 0., 0., 1., 1., 0., 0., 0., 1., 0., 0., 0., 0., 0., 0., 1., 0.,\n       0., 0., 0., 0., 1., 0., 1., 1., 0., 0., 0., 0., 0., 0., 1., 0., 0.,\n       1., 0., 0., 0., 0., 0., 0., 0., 0., 0., 1., 0., 0., 1., 0., 0., 0.,\n       0., 0., 0., 0., 1., 0., 0., 0., 0., 0., 0., 0., 0., 1., 0., 0., 0.,\n       1., 0., 0., 0., 0., 1., 0., 0., 1., 0., 0., 0., 0., 0., 1., 0., 1.,\n       0., 0., 0., 0., 1., 1., 0., 0., 1., 0., 0., 1., 1., 1., 0., 0., 1.,\n       1., 0., 1., 1., 0., 0., 0., 0., 1., 0., 0., 1., 0., 0., 0., 1., 0.,\n       1., 1., 0., 1., 1., 0., 0., 0., 0., 0., 0., 0., 1., 0., 0., 0., 0.,\n       0., 1., 0., 0., 1., 0., 0., 0., 0., 0., 1., 0., 1., 0., 0., 0., 0.,\n       0., 0., 0., 0., 0., 0., 0., 0., 1., 0., 0., 1., 0., 0., 0., 0., 0.,\n       1., 0., 1., 0., 1., 1., 0., 0., 1., 0., 1., 0., 0., 1., 0., 0., 1.,\n       0., 0., 0., 0., 0., 0., 1., 1., 0., 0., 0., 0., 0., 0., 1., 0., 0.,\n       0., 0., 0., 0., 0., 0., 0., 0., 0., 0., 0., 0., 1., 0., 0., 0., 0.,\n       0., 1., 0., 0., 0., 0., 1., 1., 1., 1., 1., 1., 1., 0., 0., 1., 1.,\n       0., 1., 0., 0., 0., 0., 0., 1., 0., 1., 0., 0., 0., 0., 0., 0., 0.,\n       0., 1., 0., 0., 0., 1., 0., 1., 1., 0., 0., 0., 1., 0., 0., 0., 0.,\n       0., 0., 1., 0., 0., 1., 0., 0., 0., 0., 1., 0., 0., 0., 0., 0., 0.,\n       1., 1., 0., 1., 0., 0., 0., 0., 0., 1., 0., 0., 0., 1., 0., 1., 0.,\n       0., 1., 1., 0., 0., 0., 1., 0., 0., 0., 0., 0., 0., 0., 1., 0., 1.,\n       0., 0., 0., 0., 0., 0., 0., 0., 0., 0., 1., 0., 0., 0., 1., 1., 0.,\n       1., 0., 1., 0., 1., 0., 0., 0., 0., 0., 0., 0., 0., 0., 0., 0., 0.,\n       0., 1., 0., 0., 0., 0., 0., 0., 1., 1., 0., 0., 0., 0., 1., 1., 0.,\n       0., 1., 0., 1., 1., 0., 0., 0., 0., 0., 0., 1., 1., 0., 0., 1., 0.,\n       0., 0., 0., 0., 1., 1., 1., 0., 0., 1., 0., 1., 1., 0., 1., 0., 1.,\n       0., 1., 1., 0., 0., 0., 0., 0., 1., 0., 1., 1., 1., 1., 0., 0., 0.,\n       1., 1., 1., 1., 0., 0., 0., 0., 0., 0., 0., 0., 0., 1., 0., 0., 0.,\n       0., 0., 0., 1., 0., 0., 0., 1., 1., 0., 0., 1., 0., 0., 0., 0., 0.,\n       0., 0., 1., 1., 0., 0., 0., 1., 0., 0., 0., 1., 0., 1., 0., 0., 0.,\n       1., 0., 1., 0., 1., 0., 0., 1., 1., 0., 1., 0., 0., 0., 1., 0., 0.,\n       0., 1., 0., 1., 0., 0., 0., 1., 1., 0., 1., 0., 0., 0., 0., 0., 0.,\n       1., 1., 0., 0., 0., 0., 1., 0., 0.])"
          },
          "metadata": {}
        }
      ],
      "execution_count": 45
    },
    {
      "cell_type": "markdown",
      "source": "#### Q11) Using the `predictions` and the `y_test` dataframe calculate the value for each metric using the appropriate function.\n",
      "metadata": {}
    },
    {
      "cell_type": "code",
      "source": "#Enter Your Code, Execute and take the Screenshot\nTree_Accuracy_Score = mean_absolute_error(y_test, predictions)\nTree_JaccardIndex = mean_squared_error(y_test, predictions)\nTree_F1_Score = r2_score(y_test, predictions)",
      "metadata": {
        "trusted": true
      },
      "outputs": [],
      "execution_count": 50
    },
    {
      "cell_type": "code",
      "source": "Tree_Accuracy_Score\nTree_JaccardIndex\nTree_F1_Score",
      "metadata": {
        "trusted": true
      },
      "outputs": [
        {
          "execution_count": 51,
          "output_type": "execute_result",
          "data": {
            "text/plain": "-0.15636250346164537"
          },
          "metadata": {}
        }
      ],
      "execution_count": 51
    },
    {
      "cell_type": "markdown",
      "source": "### Logistic Regression\n",
      "metadata": {}
    },
    {
      "cell_type": "markdown",
      "source": "#### Q12) Use the `train_test_split` function to split the `features` and `Y` dataframes with a `test_size` of `0.2` and the `random_state` set to `1`.\n",
      "metadata": {}
    },
    {
      "cell_type": "code",
      "source": "#Enter Your Code, Execute and take the Screenshot\nx_train, x_test, y_train, y_test = train_test_split(features, Y, test_size=0.2, random_state=1)",
      "metadata": {
        "trusted": true
      },
      "outputs": [],
      "execution_count": 53
    },
    {
      "cell_type": "code",
      "source": "x_train, x_test, y_train, y_test",
      "metadata": {
        "trusted": true
      },
      "outputs": [
        {
          "execution_count": 54,
          "output_type": "execute_result",
          "data": {
            "text/plain": "(      MinTemp  MaxTemp  Rainfall  Evaporation  Sunshine  WindGustSpeed  \\\n 1264     12.3     19.7      30.0          4.0       7.2           44.0   \n 3113     25.1     38.1       0.0         13.8      11.1           59.0   \n 1230     12.2     17.5       0.0          2.8       3.0           41.0   \n 1221     10.3     16.5       1.0          2.2       0.8           24.0   \n 3070     20.4     23.6       3.2          7.0       0.0           33.0   \n ...       ...      ...       ...          ...       ...            ...   \n 2763     19.5     28.7       9.0          3.0       3.0           70.0   \n 905       6.8     16.1       0.0          4.2      10.2           41.0   \n 1096     20.6     28.1       1.0          3.2       9.8           41.0   \n 235      10.3     18.6       0.0          4.0      10.9           41.0   \n 1061     24.2     41.5       0.0          8.4      12.4           56.0   \n \n       WindSpeed9am  WindSpeed3pm  Humidity9am  Humidity3pm  ...  \\\n 1264          24.0          17.0         52.0         45.0  ...   \n 3113          20.0          31.0         26.0         52.0  ...   \n 1230          17.0          11.0         86.0         69.0  ...   \n 1221           7.0          11.0         89.0         71.0  ...   \n 3070          15.0           7.0         86.0         83.0  ...   \n ...            ...           ...          ...          ...  ...   \n 2763          17.0          17.0         84.0         62.0  ...   \n 905           26.0          20.0         58.0         50.0  ...   \n 1096           4.0          20.0         82.0         69.0  ...   \n 235            6.0          19.0         67.0         54.0  ...   \n 1061          24.0          33.0         46.0         22.0  ...   \n \n       WindDir3pm_NNW  WindDir3pm_NW  WindDir3pm_S  WindDir3pm_SE  \\\n 1264             0.0            0.0           0.0            0.0   \n 3113             0.0            0.0           0.0            0.0   \n 1230             0.0            0.0           0.0            0.0   \n 1221             0.0            0.0           0.0            0.0   \n 3070             0.0            0.0           0.0            0.0   \n ...              ...            ...           ...            ...   \n 2763             0.0            0.0           0.0            0.0   \n 905              0.0            0.0           1.0            0.0   \n 1096             0.0            0.0           0.0            0.0   \n 235              0.0            0.0           0.0            0.0   \n 1061             1.0            0.0           0.0            0.0   \n \n       WindDir3pm_SSE  WindDir3pm_SSW  WindDir3pm_SW  WindDir3pm_W  \\\n 1264             0.0             0.0            0.0           0.0   \n 3113             1.0             0.0            0.0           0.0   \n 1230             0.0             0.0            0.0           0.0   \n 1221             0.0             0.0            0.0           0.0   \n 3070             0.0             0.0            0.0           0.0   \n ...              ...             ...            ...           ...   \n 2763             0.0             0.0            0.0           0.0   \n 905              0.0             0.0            0.0           0.0   \n 1096             0.0             0.0            0.0           0.0   \n 235              0.0             0.0            0.0           0.0   \n 1061             0.0             0.0            0.0           0.0   \n \n       WindDir3pm_WNW  WindDir3pm_WSW  \n 1264             0.0             0.0  \n 3113             0.0             0.0  \n 1230             0.0             0.0  \n 1221             0.0             0.0  \n 3070             0.0             0.0  \n ...              ...             ...  \n 2763             0.0             0.0  \n 905              0.0             0.0  \n 1096             0.0             0.0  \n 235              0.0             0.0  \n 1061             0.0             0.0  \n \n [2616 rows x 66 columns],\n       MinTemp  MaxTemp  Rainfall  Evaporation  Sunshine  WindGustSpeed  \\\n 255      15.1     18.9       9.0          3.2       5.0           41.0   \n 1552      9.0     18.2       0.0          5.0      10.0           46.0   \n 1353     20.0     26.8       0.0          9.0       4.7           59.0   \n 1060     24.0     33.7       0.0          5.2       6.8           43.0   \n 808      12.6     24.9       0.0          2.4      10.6           41.0   \n ...       ...      ...       ...          ...       ...            ...   \n 1224     10.2     16.9       0.0          2.0       1.1           52.0   \n 756      20.9     26.7      14.0          3.4       6.2           41.0   \n 2774     19.6     28.5       0.2          7.6      12.7           43.0   \n 1387     21.7     33.2       1.4          8.8       9.4           56.0   \n 1723     20.8     24.3       0.0          7.8       1.3           43.0   \n \n       WindSpeed9am  WindSpeed3pm  Humidity9am  Humidity3pm  ...  \\\n 255           20.0          17.0         63.0         55.0  ...   \n 1552           9.0          17.0         52.0         33.0  ...   \n 1353          17.0           9.0         61.0         68.0  ...   \n 1060           7.0          28.0         72.0         73.0  ...   \n 808           15.0           9.0         64.0         32.0  ...   \n ...            ...           ...          ...          ...  ...   \n 1224          17.0          17.0         91.0         80.0  ...   \n 756            2.0          15.0         90.0         77.0  ...   \n 2774          11.0          22.0         68.0         46.0  ...   \n 1387          17.0          24.0         69.0         52.0  ...   \n 1723           7.0          11.0         72.0         68.0  ...   \n \n       WindDir3pm_NNW  WindDir3pm_NW  WindDir3pm_S  WindDir3pm_SE  \\\n 255              0.0            0.0           0.0            1.0   \n 1552             0.0            0.0           0.0            0.0   \n 1353             0.0            0.0           0.0            0.0   \n 1060             0.0            0.0           0.0            0.0   \n 808              0.0            0.0           0.0            0.0   \n ...              ...            ...           ...            ...   \n 1224             0.0            0.0           0.0            0.0   \n 756              0.0            0.0           0.0            0.0   \n 2774             0.0            0.0           0.0            0.0   \n 1387             1.0            0.0           0.0            0.0   \n 1723             0.0            0.0           0.0            0.0   \n \n       WindDir3pm_SSE  WindDir3pm_SSW  WindDir3pm_SW  WindDir3pm_W  \\\n 255              0.0             0.0            0.0           0.0   \n 1552             0.0             0.0            0.0           0.0   \n 1353             0.0             0.0            0.0           0.0   \n 1060             0.0             0.0            0.0           0.0   \n 808              0.0             0.0            0.0           1.0   \n ...              ...             ...            ...           ...   \n 1224             0.0             0.0            0.0           0.0   \n 756              0.0             0.0            0.0           0.0   \n 2774             0.0             0.0            0.0           0.0   \n 1387             0.0             0.0            0.0           0.0   \n 1723             0.0             1.0            0.0           0.0   \n \n       WindDir3pm_WNW  WindDir3pm_WSW  \n 255              0.0             0.0  \n 1552             0.0             1.0  \n 1353             0.0             0.0  \n 1060             0.0             0.0  \n 808              0.0             0.0  \n ...              ...             ...  \n 1224             0.0             0.0  \n 756              0.0             0.0  \n 2774             0.0             0.0  \n 1387             0.0             0.0  \n 1723             0.0             0.0  \n \n [655 rows x 66 columns],\n 1264    0.0\n 3113    0.0\n 1230    0.0\n 1221    0.0\n 3070    1.0\n        ... \n 2763    1.0\n 905     0.0\n 1096    0.0\n 235     0.0\n 1061    0.0\n Name: RainTomorrow, Length: 2616, dtype: float64,\n 255     0.0\n 1552    0.0\n 1353    0.0\n 1060    0.0\n 808     0.0\n        ... \n 1224    1.0\n 756     0.0\n 2774    0.0\n 1387    0.0\n 1723    0.0\n Name: RainTomorrow, Length: 655, dtype: float64)"
          },
          "metadata": {}
        }
      ],
      "execution_count": 54
    },
    {
      "cell_type": "markdown",
      "source": "#### Q13) Create and train a LogisticRegression model called LR using the training data (`x_train`, `y_train`) with the `solver` parameter set to `liblinear`.\n",
      "metadata": {}
    },
    {
      "cell_type": "code",
      "source": "#Enter Your Code, Execute and take the Screenshot",
      "metadata": {},
      "outputs": [],
      "execution_count": null
    },
    {
      "cell_type": "code",
      "source": "LR = LogisticRegression(solver='liblinear')\nLR.fit(x_train, y_train)",
      "metadata": {
        "trusted": true
      },
      "outputs": [
        {
          "execution_count": 56,
          "output_type": "execute_result",
          "data": {
            "text/plain": "LogisticRegression(solver='liblinear')",
            "text/html": "<style>#sk-container-id-7 {color: black;}#sk-container-id-7 pre{padding: 0;}#sk-container-id-7 div.sk-toggleable {background-color: white;}#sk-container-id-7 label.sk-toggleable__label {cursor: pointer;display: block;width: 100%;margin-bottom: 0;padding: 0.3em;box-sizing: border-box;text-align: center;}#sk-container-id-7 label.sk-toggleable__label-arrow:before {content: \"▸\";float: left;margin-right: 0.25em;color: #696969;}#sk-container-id-7 label.sk-toggleable__label-arrow:hover:before {color: black;}#sk-container-id-7 div.sk-estimator:hover label.sk-toggleable__label-arrow:before {color: black;}#sk-container-id-7 div.sk-toggleable__content {max-height: 0;max-width: 0;overflow: hidden;text-align: left;background-color: #f0f8ff;}#sk-container-id-7 div.sk-toggleable__content pre {margin: 0.2em;color: black;border-radius: 0.25em;background-color: #f0f8ff;}#sk-container-id-7 input.sk-toggleable__control:checked~div.sk-toggleable__content {max-height: 200px;max-width: 100%;overflow: auto;}#sk-container-id-7 input.sk-toggleable__control:checked~label.sk-toggleable__label-arrow:before {content: \"▾\";}#sk-container-id-7 div.sk-estimator input.sk-toggleable__control:checked~label.sk-toggleable__label {background-color: #d4ebff;}#sk-container-id-7 div.sk-label input.sk-toggleable__control:checked~label.sk-toggleable__label {background-color: #d4ebff;}#sk-container-id-7 input.sk-hidden--visually {border: 0;clip: rect(1px 1px 1px 1px);clip: rect(1px, 1px, 1px, 1px);height: 1px;margin: -1px;overflow: hidden;padding: 0;position: absolute;width: 1px;}#sk-container-id-7 div.sk-estimator {font-family: monospace;background-color: #f0f8ff;border: 1px dotted black;border-radius: 0.25em;box-sizing: border-box;margin-bottom: 0.5em;}#sk-container-id-7 div.sk-estimator:hover {background-color: #d4ebff;}#sk-container-id-7 div.sk-parallel-item::after {content: \"\";width: 100%;border-bottom: 1px solid gray;flex-grow: 1;}#sk-container-id-7 div.sk-label:hover label.sk-toggleable__label {background-color: #d4ebff;}#sk-container-id-7 div.sk-serial::before {content: \"\";position: absolute;border-left: 1px solid gray;box-sizing: border-box;top: 0;bottom: 0;left: 50%;z-index: 0;}#sk-container-id-7 div.sk-serial {display: flex;flex-direction: column;align-items: center;background-color: white;padding-right: 0.2em;padding-left: 0.2em;position: relative;}#sk-container-id-7 div.sk-item {position: relative;z-index: 1;}#sk-container-id-7 div.sk-parallel {display: flex;align-items: stretch;justify-content: center;background-color: white;position: relative;}#sk-container-id-7 div.sk-item::before, #sk-container-id-7 div.sk-parallel-item::before {content: \"\";position: absolute;border-left: 1px solid gray;box-sizing: border-box;top: 0;bottom: 0;left: 50%;z-index: -1;}#sk-container-id-7 div.sk-parallel-item {display: flex;flex-direction: column;z-index: 1;position: relative;background-color: white;}#sk-container-id-7 div.sk-parallel-item:first-child::after {align-self: flex-end;width: 50%;}#sk-container-id-7 div.sk-parallel-item:last-child::after {align-self: flex-start;width: 50%;}#sk-container-id-7 div.sk-parallel-item:only-child::after {width: 0;}#sk-container-id-7 div.sk-dashed-wrapped {border: 1px dashed gray;margin: 0 0.4em 0.5em 0.4em;box-sizing: border-box;padding-bottom: 0.4em;background-color: white;}#sk-container-id-7 div.sk-label label {font-family: monospace;font-weight: bold;display: inline-block;line-height: 1.2em;}#sk-container-id-7 div.sk-label-container {text-align: center;}#sk-container-id-7 div.sk-container {/* jupyter's `normalize.less` sets `[hidden] { display: none; }` but bootstrap.min.css set `[hidden] { display: none !important; }` so we also need the `!important` here to be able to override the default hidden behavior on the sphinx rendered scikit-learn.org. See: https://github.com/scikit-learn/scikit-learn/issues/21755 */display: inline-block !important;position: relative;}#sk-container-id-7 div.sk-text-repr-fallback {display: none;}</style><div id=\"sk-container-id-7\" class=\"sk-top-container\"><div class=\"sk-text-repr-fallback\"><pre>LogisticRegression(solver=&#x27;liblinear&#x27;)</pre><b>In a Jupyter environment, please rerun this cell to show the HTML representation or trust the notebook. <br />On GitHub, the HTML representation is unable to render, please try loading this page with nbviewer.org.</b></div><div class=\"sk-container\" hidden><div class=\"sk-item\"><div class=\"sk-estimator sk-toggleable\"><input class=\"sk-toggleable__control sk-hidden--visually\" id=\"sk-estimator-id-7\" type=\"checkbox\" checked><label for=\"sk-estimator-id-7\" class=\"sk-toggleable__label sk-toggleable__label-arrow\">LogisticRegression</label><div class=\"sk-toggleable__content\"><pre>LogisticRegression(solver=&#x27;liblinear&#x27;)</pre></div></div></div></div></div>"
          },
          "metadata": {}
        }
      ],
      "execution_count": 56
    },
    {
      "cell_type": "markdown",
      "source": "#### Q14) Now, use the `predict` and `predict_proba` methods on the testing data (`x_test`) and save it as 2 arrays `predictions` and `predict_proba`.\n",
      "metadata": {}
    },
    {
      "cell_type": "code",
      "source": "#Enter Your Code, Execute and take the Screenshot",
      "metadata": {},
      "outputs": [],
      "execution_count": null
    },
    {
      "cell_type": "code",
      "source": "predictions = LR.predict(x_test)",
      "metadata": {
        "trusted": true
      },
      "outputs": [],
      "execution_count": 57
    },
    {
      "cell_type": "code",
      "source": "predict_proba = LR.predict_proba(x_test)",
      "metadata": {
        "trusted": true
      },
      "outputs": [],
      "execution_count": 58
    },
    {
      "cell_type": "markdown",
      "source": "#### Q15) Using the `predictions`, `predict_proba` and the `y_test` dataframe calculate the value for each metric using the appropriate function.\n",
      "metadata": {}
    },
    {
      "cell_type": "code",
      "source": "#Enter Your Code, Execute and take the Screenshot\nLR_Accuracy_Score = accuracy_score(y_test, predictions)\nLR_JaccardIndex = jaccard_score(y_test, predictions)\nLR_F1_Score = f1_score(y_test, predictions)\nLR_Log_Loss = log_loss(y_test, predict_proba)",
      "metadata": {
        "trusted": true
      },
      "outputs": [],
      "execution_count": 59
    },
    {
      "cell_type": "code",
      "source": "print(\"LR Accuracy Score:\", LR_Accuracy_Score)\nprint(\"LR Jaccard Index:\", LR_JaccardIndex)\nprint(\"LR F1 Score:\", LR_F1_Score)\nprint(\"LR Log Loss:\", LR_Log_Loss)",
      "metadata": {
        "trusted": true
      },
      "outputs": [
        {
          "name": "stdout",
          "text": "LR Accuracy Score: 0.8381679389312977\nLR Jaccard Index: 0.511520737327189\nLR F1 Score: 0.6768292682926829\nLR Log Loss: 0.38103765010675233\n",
          "output_type": "stream"
        }
      ],
      "execution_count": 61
    },
    {
      "cell_type": "markdown",
      "source": "### SVM\n",
      "metadata": {}
    },
    {
      "cell_type": "markdown",
      "source": "#### Q16) Create and train a SVM model called SVM using the training data (`x_train`, `y_train`).\n",
      "metadata": {}
    },
    {
      "cell_type": "code",
      "source": "#Enter Your Code Below, Execute, and Save the Screenshot of the Final Output\nfrom sklearn.svm import SVC",
      "metadata": {
        "trusted": true
      },
      "outputs": [],
      "execution_count": 62
    },
    {
      "cell_type": "code",
      "source": "SVM = SVC()\n\nSVM.fit(x_train, y_train)",
      "metadata": {
        "trusted": true
      },
      "outputs": [
        {
          "execution_count": 63,
          "output_type": "execute_result",
          "data": {
            "text/plain": "SVC()",
            "text/html": "<style>#sk-container-id-8 {color: black;}#sk-container-id-8 pre{padding: 0;}#sk-container-id-8 div.sk-toggleable {background-color: white;}#sk-container-id-8 label.sk-toggleable__label {cursor: pointer;display: block;width: 100%;margin-bottom: 0;padding: 0.3em;box-sizing: border-box;text-align: center;}#sk-container-id-8 label.sk-toggleable__label-arrow:before {content: \"▸\";float: left;margin-right: 0.25em;color: #696969;}#sk-container-id-8 label.sk-toggleable__label-arrow:hover:before {color: black;}#sk-container-id-8 div.sk-estimator:hover label.sk-toggleable__label-arrow:before {color: black;}#sk-container-id-8 div.sk-toggleable__content {max-height: 0;max-width: 0;overflow: hidden;text-align: left;background-color: #f0f8ff;}#sk-container-id-8 div.sk-toggleable__content pre {margin: 0.2em;color: black;border-radius: 0.25em;background-color: #f0f8ff;}#sk-container-id-8 input.sk-toggleable__control:checked~div.sk-toggleable__content {max-height: 200px;max-width: 100%;overflow: auto;}#sk-container-id-8 input.sk-toggleable__control:checked~label.sk-toggleable__label-arrow:before {content: \"▾\";}#sk-container-id-8 div.sk-estimator input.sk-toggleable__control:checked~label.sk-toggleable__label {background-color: #d4ebff;}#sk-container-id-8 div.sk-label input.sk-toggleable__control:checked~label.sk-toggleable__label {background-color: #d4ebff;}#sk-container-id-8 input.sk-hidden--visually {border: 0;clip: rect(1px 1px 1px 1px);clip: rect(1px, 1px, 1px, 1px);height: 1px;margin: -1px;overflow: hidden;padding: 0;position: absolute;width: 1px;}#sk-container-id-8 div.sk-estimator {font-family: monospace;background-color: #f0f8ff;border: 1px dotted black;border-radius: 0.25em;box-sizing: border-box;margin-bottom: 0.5em;}#sk-container-id-8 div.sk-estimator:hover {background-color: #d4ebff;}#sk-container-id-8 div.sk-parallel-item::after {content: \"\";width: 100%;border-bottom: 1px solid gray;flex-grow: 1;}#sk-container-id-8 div.sk-label:hover label.sk-toggleable__label {background-color: #d4ebff;}#sk-container-id-8 div.sk-serial::before {content: \"\";position: absolute;border-left: 1px solid gray;box-sizing: border-box;top: 0;bottom: 0;left: 50%;z-index: 0;}#sk-container-id-8 div.sk-serial {display: flex;flex-direction: column;align-items: center;background-color: white;padding-right: 0.2em;padding-left: 0.2em;position: relative;}#sk-container-id-8 div.sk-item {position: relative;z-index: 1;}#sk-container-id-8 div.sk-parallel {display: flex;align-items: stretch;justify-content: center;background-color: white;position: relative;}#sk-container-id-8 div.sk-item::before, #sk-container-id-8 div.sk-parallel-item::before {content: \"\";position: absolute;border-left: 1px solid gray;box-sizing: border-box;top: 0;bottom: 0;left: 50%;z-index: -1;}#sk-container-id-8 div.sk-parallel-item {display: flex;flex-direction: column;z-index: 1;position: relative;background-color: white;}#sk-container-id-8 div.sk-parallel-item:first-child::after {align-self: flex-end;width: 50%;}#sk-container-id-8 div.sk-parallel-item:last-child::after {align-self: flex-start;width: 50%;}#sk-container-id-8 div.sk-parallel-item:only-child::after {width: 0;}#sk-container-id-8 div.sk-dashed-wrapped {border: 1px dashed gray;margin: 0 0.4em 0.5em 0.4em;box-sizing: border-box;padding-bottom: 0.4em;background-color: white;}#sk-container-id-8 div.sk-label label {font-family: monospace;font-weight: bold;display: inline-block;line-height: 1.2em;}#sk-container-id-8 div.sk-label-container {text-align: center;}#sk-container-id-8 div.sk-container {/* jupyter's `normalize.less` sets `[hidden] { display: none; }` but bootstrap.min.css set `[hidden] { display: none !important; }` so we also need the `!important` here to be able to override the default hidden behavior on the sphinx rendered scikit-learn.org. See: https://github.com/scikit-learn/scikit-learn/issues/21755 */display: inline-block !important;position: relative;}#sk-container-id-8 div.sk-text-repr-fallback {display: none;}</style><div id=\"sk-container-id-8\" class=\"sk-top-container\"><div class=\"sk-text-repr-fallback\"><pre>SVC()</pre><b>In a Jupyter environment, please rerun this cell to show the HTML representation or trust the notebook. <br />On GitHub, the HTML representation is unable to render, please try loading this page with nbviewer.org.</b></div><div class=\"sk-container\" hidden><div class=\"sk-item\"><div class=\"sk-estimator sk-toggleable\"><input class=\"sk-toggleable__control sk-hidden--visually\" id=\"sk-estimator-id-8\" type=\"checkbox\" checked><label for=\"sk-estimator-id-8\" class=\"sk-toggleable__label sk-toggleable__label-arrow\">SVC</label><div class=\"sk-toggleable__content\"><pre>SVC()</pre></div></div></div></div></div>"
          },
          "metadata": {}
        }
      ],
      "execution_count": 63
    },
    {
      "cell_type": "markdown",
      "source": "#### Q17) Now use the `predict` method on the testing data (`x_test`) and save it to the array `predictions`.\n",
      "metadata": {}
    },
    {
      "cell_type": "code",
      "source": "#Enter Your Code Below, Execute, and Save the Screenshot of the Final Output",
      "metadata": {},
      "outputs": [],
      "execution_count": null
    },
    {
      "cell_type": "code",
      "source": "predictions = SVM.predict(x_test)",
      "metadata": {
        "trusted": true
      },
      "outputs": [],
      "execution_count": 64
    },
    {
      "cell_type": "markdown",
      "source": "#### Q18) Using the `predictions` and the `y_test` dataframe calculate the value for each metric using the appropriate function.\n",
      "metadata": {}
    },
    {
      "cell_type": "code",
      "source": "SVM_Accuracy_Score = accuracy_score(y_test, predictions)\nSVM_JaccardIndex = jaccard_score(y_test, predictions)\nSVM_F1_Score = f1_score(y_test, predictions)\n\nprint(\"SVM Accuracy Score:\", SVM_Accuracy_Score)\nprint(\"SVM Jaccard Index:\", SVM_JaccardIndex)\nprint(\"SVM F1 Score:\", SVM_F1_Score)",
      "metadata": {
        "trusted": true
      },
      "outputs": [
        {
          "name": "stdout",
          "text": "SVM Accuracy Score: 0.7221374045801526\nSVM Jaccard Index: 0.0\nSVM F1 Score: 0.0\n",
          "output_type": "stream"
        }
      ],
      "execution_count": 68
    },
    {
      "cell_type": "markdown",
      "source": "### Report\n",
      "metadata": {}
    },
    {
      "cell_type": "markdown",
      "source": "#### Q19) Show the Accuracy,Jaccard Index,F1-Score and LogLoss in a tabular format using data frame for all of the above models.\n\n\\*LogLoss is only for Logistic Regression Model\n",
      "metadata": {}
    },
    {
      "cell_type": "code",
      "source": "Report = pd.DataFrame({\n    'Model': ['Linear Regression', 'KNN', 'Decision Tree', 'Logistic Regression', 'SVM'],\n    'Accuracy': [LinearRegression_MAE, KNN_Accuracy_Score, Tree_MAE, LR_Accuracy_Score, SVM_Accuracy_Score],\n    'Jaccard Index': [LinearRegression_MSE, KNN_JaccardIndex, Tree_MSE, LR_JaccardIndex, SVM_JaccardIndex],\n    'F1-Score': [LinearRegression_R2, KNN_F1_Score, Tree_R2, LR_F1_Score, SVM_F1_Score],\n    'LogLoss': [None, None, None, LR_Log_Loss, None]\n})\n\nReport",
      "metadata": {
        "trusted": true
      },
      "outputs": [
        {
          "execution_count": 69,
          "output_type": "execute_result",
          "data": {
            "text/plain": "                 Model  Accuracy  Jaccard Index  F1-Score   LogLoss\n0    Linear Regression  0.256319       0.115721  0.427130       NaN\n1                  KNN  0.818321       0.425121  0.596610       NaN\n2        Decision Tree  0.233588       0.233588 -0.156363       NaN\n3  Logistic Regression  0.838168       0.511521  0.676829  0.381038\n4                  SVM  0.722137       0.000000  0.000000       NaN",
            "text/html": "<div>\n<style scoped>\n    .dataframe tbody tr th:only-of-type {\n        vertical-align: middle;\n    }\n\n    .dataframe tbody tr th {\n        vertical-align: top;\n    }\n\n    .dataframe thead th {\n        text-align: right;\n    }\n</style>\n<table border=\"1\" class=\"dataframe\">\n  <thead>\n    <tr style=\"text-align: right;\">\n      <th></th>\n      <th>Model</th>\n      <th>Accuracy</th>\n      <th>Jaccard Index</th>\n      <th>F1-Score</th>\n      <th>LogLoss</th>\n    </tr>\n  </thead>\n  <tbody>\n    <tr>\n      <th>0</th>\n      <td>Linear Regression</td>\n      <td>0.256319</td>\n      <td>0.115721</td>\n      <td>0.427130</td>\n      <td>NaN</td>\n    </tr>\n    <tr>\n      <th>1</th>\n      <td>KNN</td>\n      <td>0.818321</td>\n      <td>0.425121</td>\n      <td>0.596610</td>\n      <td>NaN</td>\n    </tr>\n    <tr>\n      <th>2</th>\n      <td>Decision Tree</td>\n      <td>0.233588</td>\n      <td>0.233588</td>\n      <td>-0.156363</td>\n      <td>NaN</td>\n    </tr>\n    <tr>\n      <th>3</th>\n      <td>Logistic Regression</td>\n      <td>0.838168</td>\n      <td>0.511521</td>\n      <td>0.676829</td>\n      <td>0.381038</td>\n    </tr>\n    <tr>\n      <th>4</th>\n      <td>SVM</td>\n      <td>0.722137</td>\n      <td>0.000000</td>\n      <td>0.000000</td>\n      <td>NaN</td>\n    </tr>\n  </tbody>\n</table>\n</div>"
          },
          "metadata": {}
        }
      ],
      "execution_count": 69
    },
    {
      "cell_type": "markdown",
      "source": "<h2 id=\"Section_5\">  How to submit </h2>\n\n<p>Once you complete your notebook you will have to share it. You can download the notebook by navigating to \"File\" and clicking on \"Download\" button.\n\n<p>This will save the (.ipynb) file on your computer. Once saved, you can upload this file in the \"My Submission\" tab, of the \"Peer-graded Assignment\" section.  \n",
      "metadata": {}
    },
    {
      "cell_type": "markdown",
      "source": "<h2>About the Authors:</h2> \n\n<a href=\"https://www.linkedin.com/in/joseph-s-50398b136/?utm_medium=Exinfluencer&utm_source=Exinfluencer&utm_content=000026UJ&utm_term=10006555&utm_id=NA-SkillsNetwork-Channel-SkillsNetworkCoursesIBMDeveloperSkillsNetworkML0101ENSkillsNetwork20718538-2022-01-01\">Joseph Santarcangelo</a> has a PhD in Electrical Engineering, his research focused on using machine learning, signal processing, and computer vision to determine how videos impact human cognition. Joseph has been working for IBM since he completed his PhD.\n\n### Other Contributors\n\n[Svitlana Kramar](https://www.linkedin.com/in/svitlana-kramar/?utm_medium=Exinfluencer&utm_source=Exinfluencer&utm_content=000026UJ&utm_term=10006555&utm_id=NA-SkillsNetwork-Channel-SkillsNetworkCoursesIBMML0232ENSkillsNetwork30654641-2022-01-01)\n",
      "metadata": {}
    },
    {
      "cell_type": "markdown",
      "source": "## Change Log\n\n| Date (YYYY-MM-DD) | Version | Changed By    | Change Description          |\n| ----------------- | ------- | ------------- | --------------------------- |\n| 2022-06-22        | 2.0     | Svitlana K.   | Deleted GridSearch and Mock |\n\n## <h3 align=\"center\"> © IBM Corporation 2020. All rights reserved. <h3/>\n",
      "metadata": {}
    }
  ]
}